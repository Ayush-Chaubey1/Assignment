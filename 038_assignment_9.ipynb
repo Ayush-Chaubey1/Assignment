{
 "cells": [
  {
   "cell_type": "code",
   "execution_count": 1,
   "id": "d9c0c520-72a7-4b76-8bfe-dd2bff80396f",
   "metadata": {},
   "outputs": [],
   "source": [
    "#Q1"
   ]
  },
  {
   "cell_type": "code",
   "execution_count": 2,
   "id": "4e2ab753-4758-4520-9fa5-090930ad520b",
   "metadata": {},
   "outputs": [],
   "source": [
    "from abc import ABC, abstractmethod"
   ]
  },
  {
   "cell_type": "code",
   "execution_count": 3,
   "id": "ae018e77-7d0a-4a2e-9f70-a7fabe6462b3",
   "metadata": {},
   "outputs": [],
   "source": [
    "class Animal(ABC):\n",
    "    @abstractmethod\n",
    "    def make_sound(self):\n",
    "        pass\n",
    "    \n",
    "    def eat(self):\n",
    "        print('Eating...')\n",
    "        \n",
    "class Dog(Animal):\n",
    "    def make_sound(self):\n",
    "        print('Bark! ')\n",
    "        \n",
    "class Cat(Animal):\n",
    "    def make_sound(self):\n",
    "        print('Meow!')"
   ]
  },
  {
   "cell_type": "code",
   "execution_count": 4,
   "id": "55268f1c-6d99-4960-9e92-0baf5ad877d5",
   "metadata": {},
   "outputs": [],
   "source": [
    "dog = Dog()"
   ]
  },
  {
   "cell_type": "code",
   "execution_count": 5,
   "id": "3575368b-9777-4b1d-8f70-12ff0d94fef0",
   "metadata": {},
   "outputs": [
    {
     "name": "stdout",
     "output_type": "stream",
     "text": [
      "Bark! \n"
     ]
    }
   ],
   "source": [
    "dog.make_sound()"
   ]
  },
  {
   "cell_type": "code",
   "execution_count": 7,
   "id": "fb4c37dd-980a-458e-b9dd-b40901e34a3a",
   "metadata": {},
   "outputs": [
    {
     "name": "stdout",
     "output_type": "stream",
     "text": [
      "Eating...\n"
     ]
    }
   ],
   "source": [
    "dog.eat()"
   ]
  },
  {
   "cell_type": "code",
   "execution_count": 8,
   "id": "8f5a0a5e-c418-4aee-992f-3a5acef7f915",
   "metadata": {},
   "outputs": [],
   "source": [
    "cat = Cat()"
   ]
  },
  {
   "cell_type": "code",
   "execution_count": 9,
   "id": "4eeb28de-65be-44e3-9c3e-8ef41d102b9c",
   "metadata": {},
   "outputs": [
    {
     "name": "stdout",
     "output_type": "stream",
     "text": [
      "Meow!\n"
     ]
    }
   ],
   "source": [
    "cat.make_sound()"
   ]
  },
  {
   "cell_type": "code",
   "execution_count": 10,
   "id": "9949d03b-3af6-43e1-8d7c-8540310e33a4",
   "metadata": {},
   "outputs": [
    {
     "name": "stdout",
     "output_type": "stream",
     "text": [
      "Eating...\n"
     ]
    }
   ],
   "source": [
    "cat.eat()"
   ]
  },
  {
   "cell_type": "code",
   "execution_count": 11,
   "id": "99587ccf-77ee-4c10-ac3c-bd5189d84ba0",
   "metadata": {},
   "outputs": [],
   "source": [
    "#Q2"
   ]
  },
  {
   "cell_type": "code",
   "execution_count": 12,
   "id": "aaf38953-1c94-4a68-91b4-9e8869c08879",
   "metadata": {},
   "outputs": [],
   "source": [
    "# Abstraction and encapsulation are two fundamental concepts in object-oriented programming (OOP), but they serve different purposes."
   ]
  },
  {
   "cell_type": "code",
   "execution_count": 13,
   "id": "9b2ec839-165c-4abe-88df-c311f09acc35",
   "metadata": {},
   "outputs": [],
   "source": [
    "# Abstraction is the process of simplifying complex systems by focusing on the essential features and hiding unnecessary details.\n",
    "# It allows us to create models of real-world entities in a way that hides the complexity and provides a high-level view.\n",
    "# Abstraction is achieved through the use of abstract classes, interfaces, and methods."
   ]
  },
  {
   "cell_type": "code",
   "execution_count": 14,
   "id": "58b2c045-9470-4d0c-ade1-41fffd304ea6",
   "metadata": {},
   "outputs": [],
   "source": [
    "class Animal(ABC):\n",
    "    @abstractmethod\n",
    "    def make_sound(self):\n",
    "        pass\n",
    "    \n",
    "    def eat(self):\n",
    "        print('Eating...')\n",
    "        \n",
    "class Dog(Animal):\n",
    "    def make_sound(self):\n",
    "        print('Bark! ')\n",
    "        \n",
    "class Cat(Animal):\n",
    "    def make_sound(self):\n",
    "        print('Meow!')"
   ]
  },
  {
   "cell_type": "code",
   "execution_count": 15,
   "id": "48fa76e8-30fb-4aff-a871-feeba0e040b9",
   "metadata": {},
   "outputs": [],
   "source": [
    "# Encapsulation is the process of bundling data and the methods that operate on that data into a single unit, called a class.\n",
    "# It allows us to hide the internal state of an object and provide controlled access to that state through methods.\n",
    "# Encapsulation helps in achieving data abstraction and data security by preventing direct access to the internal details of an object."
   ]
  },
  {
   "cell_type": "code",
   "execution_count": 16,
   "id": "0d31b367-f90f-4bfe-9983-c64b92184b3d",
   "metadata": {},
   "outputs": [],
   "source": [
    "class Car:\n",
    "    def __init__(self, make, model, year):\n",
    "        self.make = make\n",
    "        self.model = model\n",
    "        self.year = year\n",
    "        \n",
    "    def get_make(self):\n",
    "        return self.make\n",
    "    \n",
    "    def get_model(self):\n",
    "        return self.model\n",
    "    \n",
    "    def get_year(self):\n",
    "        return self.year"
   ]
  },
  {
   "cell_type": "code",
   "execution_count": 18,
   "id": "5171cd8d-af20-46eb-9dcf-dfed185c5a7a",
   "metadata": {},
   "outputs": [
    {
     "name": "stdout",
     "output_type": "stream",
     "text": [
      "Toyota\n",
      "Camry\n",
      "2022\n"
     ]
    }
   ],
   "source": [
    "car = Car('Toyota' , 'Camry' , 2022)\n",
    "print(car.get_make())\n",
    "print(car.get_model())\n",
    "print(car.get_year())"
   ]
  },
  {
   "cell_type": "code",
   "execution_count": null,
   "id": "346275cb-c915-4ae7-9160-81b323232c2b",
   "metadata": {},
   "outputs": [],
   "source": [
    "#Q3"
   ]
  },
  {
   "cell_type": "code",
   "execution_count": 19,
   "id": "dc5b1a8e-cb55-49b1-9e00-6fca7b6ee1ac",
   "metadata": {},
   "outputs": [],
   "source": [
    "# The abc module in Python stands for \"Abstract Base Classes.\""
   ]
  },
  {
   "cell_type": "code",
   "execution_count": 20,
   "id": "b804b2b6-34af-4ed2-8df5-363e428ffe5d",
   "metadata": {},
   "outputs": [],
   "source": [
    "#Q4"
   ]
  },
  {
   "cell_type": "code",
   "execution_count": 21,
   "id": "1d1385e2-bdbf-4230-8292-7db754e2785f",
   "metadata": {},
   "outputs": [],
   "source": [
    "# Encapsulation: Encapsulation is the bundling of data and methods that operate on that data into a single unit, called a class.\n",
    "# Access Modifiers: Python provides access modifiers such as public, private, and protected, although they are not strictly enforced like in some other languages.\n",
    "# Getter and Setter Methods: Getter and setter methods provide controlled access to the internal data of an object."
   ]
  },
  {
   "cell_type": "code",
   "execution_count": 22,
   "id": "48a88e26-21fc-466a-8ddc-2e027b07e1bc",
   "metadata": {},
   "outputs": [],
   "source": [
    "#Q5"
   ]
  },
  {
   "cell_type": "code",
   "execution_count": null,
   "id": "8e73b153-fba6-4c15-bbec-c8f2d2941680",
   "metadata": {},
   "outputs": [],
   "source": [
    "# No, we cannot create an instance of an abstract class in Python. Abstract classes are designed to be incomplete and provide a blueprint for other classes to inherit from"
   ]
  }
 ],
 "metadata": {
  "kernelspec": {
   "display_name": "Python 3 (ipykernel)",
   "language": "python",
   "name": "python3"
  },
  "language_info": {
   "codemirror_mode": {
    "name": "ipython",
    "version": 3
   },
   "file_extension": ".py",
   "mimetype": "text/x-python",
   "name": "python",
   "nbconvert_exporter": "python",
   "pygments_lexer": "ipython3",
   "version": "3.10.8"
  }
 },
 "nbformat": 4,
 "nbformat_minor": 5
}
