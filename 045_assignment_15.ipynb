{
 "cells": [
  {
   "cell_type": "code",
   "execution_count": 1,
   "id": "476da0a2-3ae8-4fa2-bb55-9e324363cc27",
   "metadata": {},
   "outputs": [],
   "source": [
    "#Q1"
   ]
  },
  {
   "cell_type": "code",
   "execution_count": 2,
   "id": "bddea651-d8c7-43d3-b1e5-3195080d8f24",
   "metadata": {},
   "outputs": [],
   "source": [
    "\n",
    "# MongoDB is a popular open-source, document-oriented NoSQL database. \n",
    "# It differs from traditional SQL databases by using a flexible, schema-less document model instead of rigid table-based structures. \n",
    "# MongoDB stores data in JSON-like documents, making it highly scalable, flexible, and suitable for handling unstructured or semi-structured data.\n",
    "\n",
    "# Non-relational databases, also known as NoSQL databases, are designed to handle large volumes of unstructured or semi-structured data that do not fit well into the traditional relational model. \n",
    "# Here are some key characteristics of non-relational databases:\n",
    "\n",
    "# Flexible Schema: Unlike SQL databases, which enforce a predefined schema, non-relational databases allow for dynamic and flexible schema. \n",
    "#     Each document or record can have a different structure, allowing easy adaptation to changing data requirements.\n",
    "\n",
    "# Scalability: Non-relational databases excel at horizontal scalability, distributing data across multiple servers and providing automatic sharding capabilities. \n",
    "#     This allows them to handle massive amounts of data and high traffic loads.\n",
    "\n",
    "# Performance: NoSQL databases optimize for high-performance data retrieval and write operations. \n",
    "#     By avoiding complex joins and transactions, they can achieve faster read and write speeds compared to SQL databases.\n",
    "\n",
    "# Replication and Availability: Many NoSQL databases, including MongoDB, support automatic data replication, ensuring high availability and fault tolerance. \n",
    "#     Replication allows for data redundancy and enables seamless failover in case of server failures.\n",
    "\n",
    "# When to use MongoDB over SQL databases:\n",
    "\n",
    "# Flexible Data Model: If your data has a dynamic or evolving schema, MongoDB's flexible document model allows you to store and retrieve data without having to alter the database structure. \n",
    "# This is particularly useful in scenarios where the data format varies across documents.\n",
    "\n",
    "# Large-Scale Data: MongoDB's horizontal scalability and ability to handle large volumes of data make it suitable for applications\n",
    "# that deal with Big Data, real-time analytics, and high data ingestion rates."
   ]
  },
  {
   "cell_type": "code",
   "execution_count": 3,
   "id": "1c2da247-5e16-4d23-a862-56c7ef8344e1",
   "metadata": {},
   "outputs": [],
   "source": [
    "#Q2"
   ]
  },
  {
   "cell_type": "code",
   "execution_count": 4,
   "id": "55b4958e-0916-41d5-8117-849a2bfd21b3",
   "metadata": {},
   "outputs": [],
   "source": [
    "# MongoDB, being a popular NoSQL database, offers several key features that distinguish it from traditional SQL databases. Here are the main features of MongoDB:\n",
    "\n",
    "# Document-Oriented Model: MongoDB follows a document-oriented data model, where data is stored in flexible, JSON-like documents called BSON (Binary JSON). \n",
    "# Documents can have varying structures, allowing easy storage and retrieval of complex and hierarchical data.\n",
    "\n",
    "# Scalability and High Performance: MongoDB is designed for scalability and high performance. \n",
    "# It supports horizontal scaling through automatic sharding, allowing the distribution of data across multiple servers or clusters.\n",
    "# It also provides indexing mechanisms and caching options for efficient query execution and faster read/write operations.\n",
    "\n",
    "# Flexible Schema: MongoDB offers a dynamic schema, allowing for flexible and evolving data structures. \n",
    "# Each document can have its own schema, eliminating the need to define a fixed table structure upfront. This flexibility enables seamless updates to the data model as application requirements change.\n",
    "\n",
    "# Replication and High Availability: MongoDB supports automatic replication, ensuring data redundancy and high availability. \n",
    "# It allows the creation of replica sets, where data is automatically synchronized across multiple servers. \n",
    "# In case of a primary node failure, MongoDB can promote a secondary node to ensure continuous availability.\n",
    "\n",
    "# Rich Query Language: MongoDB provides a powerful and expressive query language with support for complex queries, aggregations, indexing, and text search. \n",
    "# The query language allows you to retrieve, filter, and transform data with ease."
   ]
  },
  {
   "cell_type": "code",
   "execution_count": 5,
   "id": "bb378355-7fc6-43b2-a1aa-f83a0e1db46c",
   "metadata": {},
   "outputs": [],
   "source": [
    "#Q3"
   ]
  },
  {
   "cell_type": "code",
   "execution_count": 6,
   "id": "911546c6-4b49-4076-96bb-3143f7a5579b",
   "metadata": {},
   "outputs": [],
   "source": [
    "# import pymongo\n",
    "\n",
    "# # Establishing a connection to MongoDB\n",
    "# client = pymongo.MongoClient(\"mongodb://localhost:27017/\")\n",
    "\n",
    "# # Creating or accessing a database\n",
    "# database = client[\"mydatabase\"]\n",
    "\n",
    "# # Creating or accessing a collection\n",
    "# collection = database[\"mycollection\"]"
   ]
  },
  {
   "cell_type": "code",
   "execution_count": 7,
   "id": "266e9f63-e2b8-4b96-8a77-ab79820f2654",
   "metadata": {},
   "outputs": [],
   "source": [
    "#Q4"
   ]
  },
  {
   "cell_type": "code",
   "execution_count": 8,
   "id": "4e63ef06-3a0f-4045-b0b3-4fc21a46155e",
   "metadata": {},
   "outputs": [],
   "source": [
    "# import pymongo\n",
    "\n",
    "# client = pymongo.MongoClient(\"mongodb://localhost:27017/\")\n",
    "\n",
    "# database = client[\"mydatabase\"]\n",
    "# collection = database[\"mycollection\"]\n",
    "\n",
    "# record_one = {\"name\": \"John\", \"age\": 30, \"city\": \"New York\"}\n",
    "# inserted_one = collection.insert_one(record_one)\n",
    "# print(\"Inserted record ID:\", inserted_one.inserted_id)\n",
    "\n",
    "# records_many = [\n",
    "#     {\"name\": \"Mary\", \"age\": 25, \"city\": \"London\"},\n",
    "#     {\"name\": \"David\", \"age\": 40, \"city\": \"Paris\"},\n",
    "#     {\"name\": \"Emily\", \"age\": 35, \"city\": \"Berlin\"}\n",
    "# ]\n",
    "# inserted_many = collection.insert_many(records_many)\n",
    "# print(\"Inserted records IDs:\", inserted_many.inserted_ids)\n",
    "\n",
    "# print(\"\\nFind one record:\")\n",
    "# found_record = collection.find_one({\"name\": \"John\"})\n",
    "# print(found_record)\n",
    "\n",
    "# print(\"\\nFind all records:\")\n",
    "# all_records = collection.find()\n",
    "# for record in all_records:\n",
    "#     print(record)"
   ]
  },
  {
   "cell_type": "code",
   "execution_count": 9,
   "id": "00ac36c8-efe8-4af6-845b-b1e9cf47b394",
   "metadata": {},
   "outputs": [],
   "source": [
    "#Q5"
   ]
  },
  {
   "cell_type": "code",
   "execution_count": 10,
   "id": "13cfd4a2-ee8d-4e66-a175-5ef8c300cf25",
   "metadata": {},
   "outputs": [],
   "source": [
    "# import pymongo\n",
    "\n",
    "# client = pymongo.MongoClient(\"mongodb://localhost:27017/\")\n",
    "\n",
    "# database = client[\"mydatabase\"]\n",
    "# collection = database[\"mycollection\"]\n",
    "\n",
    "# query = {\"city\": \"London\"}\n",
    "# results = collection.find(query)\n",
    "\n",
    "# for result in results:\n",
    "#     print(result)"
   ]
  },
  {
   "cell_type": "code",
   "execution_count": 11,
   "id": "1fbc7420-f9ea-4556-ac78-d693d321cab7",
   "metadata": {},
   "outputs": [],
   "source": [
    "#Q6"
   ]
  },
  {
   "cell_type": "code",
   "execution_count": 12,
   "id": "a20b1016-0fb8-4910-ae40-87c605e59c08",
   "metadata": {},
   "outputs": [],
   "source": [
    "# import pymongo\n",
    "\n",
    "# # Establishing a connection to MongoDB\n",
    "# client = pymongo.MongoClient(\"mongodb://localhost:27017/\")\n",
    "\n",
    "# # Accessing the database and collection\n",
    "# database = client[\"mydatabase\"]\n",
    "# collection = database[\"mycollection\"]\n",
    "\n",
    "# # Querying the database with sorting\n",
    "# query = {\"city\": \"London\"}\n",
    "# results = collection.find(query).sort(\"age\", pymongo.DESCENDING)\n",
    "\n",
    "# # Iterating over the cursor and printing the sorted documents\n",
    "# for result in results:\n",
    "#     print(result)"
   ]
  },
  {
   "cell_type": "code",
   "execution_count": 13,
   "id": "ce3ae454-92b7-4f66-8919-e1a6f3fc231d",
   "metadata": {},
   "outputs": [],
   "source": [
    "#Q7"
   ]
  },
  {
   "cell_type": "code",
   "execution_count": null,
   "id": "46381bbc-57be-4dab-bdba-99583e46ad6a",
   "metadata": {},
   "outputs": [],
   "source": [
    "# In MongoDB, the delete_one(), delete_many(), and drop() methods are used to remove data from a collection or even an entire collection. \n",
    "# Here's an explanation of each method and when they are typically used:\n",
    "\n",
    "# delete_one(filter):\n",
    "\n",
    "# This method is used to delete a single document that matches the specified filter.\n",
    "# The filter parameter is a query that identifies the document(s) to be deleted.\n",
    "# If multiple documents match the filter, only the first matching document will be deleted.\n",
    "# This method is useful when you want to remove a specific document based on certain criteria.\n",
    "# delete_many(filter):\n",
    "\n",
    "# This method is used to delete multiple documents that match the specified filter.\n",
    "# The filter parameter is a query that identifies the documents to be deleted.\n",
    "# All documents that match the filter will be deleted.\n",
    "# This method is useful when you want to remove multiple documents based on specific criteria.\n",
    "# drop():\n",
    "\n",
    "# This method is used to remove an entire collection from the database.\n",
    "# It permanently deletes all the documents and indexes within the collection.\n",
    "# After dropping a collection, it needs to be recreated if you want to use it again.\n",
    "# This method is useful when you want to completely remove a collection and all its associated data."
   ]
  }
 ],
 "metadata": {
  "kernelspec": {
   "display_name": "Python 3 (ipykernel)",
   "language": "python",
   "name": "python3"
  },
  "language_info": {
   "codemirror_mode": {
    "name": "ipython",
    "version": 3
   },
   "file_extension": ".py",
   "mimetype": "text/x-python",
   "name": "python",
   "nbconvert_exporter": "python",
   "pygments_lexer": "ipython3",
   "version": "3.10.8"
  }
 },
 "nbformat": 4,
 "nbformat_minor": 5
}
