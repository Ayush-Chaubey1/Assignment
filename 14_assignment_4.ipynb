{
 "cells": [
  {
   "cell_type": "code",
   "execution_count": 1,
   "id": "91d1231c-78d5-4935-af40-8c2eb7e1f3ea",
   "metadata": {},
   "outputs": [],
   "source": [
    "#Q1"
   ]
  },
  {
   "cell_type": "code",
   "execution_count": 1,
   "id": "e65f70a6-286b-4501-9652-f7cc39875eab",
   "metadata": {},
   "outputs": [],
   "source": [
    "# in object oriented programming, a class is a blueprint or a template that defines the properties and behaviour of a category ofd objects.\n",
    "# It is a user defined data type that encapsulates data and related functions within a single entity"
   ]
  },
  {
   "cell_type": "code",
   "execution_count": 2,
   "id": "f8ec2394-2d93-434b-91fd-de2bd1c7df51",
   "metadata": {},
   "outputs": [],
   "source": [
    "class Rectangle:\n",
    "    def __init__(self, length, breadth):\n",
    "        self.length = length\n",
    "        self.breadth = breadth\n",
    "        \n",
    "    def area(self):\n",
    "        return self.length * self.breadth\n",
    "    \n",
    "    def perimeter(self):\n",
    "        return 2 * (self.length + self.breadth)"
   ]
  },
  {
   "cell_type": "code",
   "execution_count": 3,
   "id": "ae50e9bc-8f5c-47b1-afa5-8c6502ab6846",
   "metadata": {},
   "outputs": [],
   "source": [
    "rect = Rectangle(10,5)"
   ]
  },
  {
   "cell_type": "code",
   "execution_count": 4,
   "id": "19f4b1fc-4aad-4f72-a9e2-2fa0c7e53f4c",
   "metadata": {},
   "outputs": [],
   "source": [
    "area = rect.area()\n",
    "perimeter = rect.perimeter()"
   ]
  },
  {
   "cell_type": "code",
   "execution_count": 5,
   "id": "43511480-2687-488e-8712-ce00f34e5e26",
   "metadata": {},
   "outputs": [
    {
     "name": "stdout",
     "output_type": "stream",
     "text": [
      "Area:  50\n"
     ]
    }
   ],
   "source": [
    "print('Area: ',area)"
   ]
  },
  {
   "cell_type": "code",
   "execution_count": 6,
   "id": "bcf800d6-2781-4f8f-98b7-461174794d60",
   "metadata": {},
   "outputs": [
    {
     "name": "stdout",
     "output_type": "stream",
     "text": [
      "Perimeter:  30\n"
     ]
    }
   ],
   "source": [
    "print('Perimeter: ',perimeter)"
   ]
  },
  {
   "cell_type": "code",
   "execution_count": 7,
   "id": "cdfed924-cf54-4621-ae67-da3ffe077e10",
   "metadata": {},
   "outputs": [],
   "source": [
    "#Q2"
   ]
  },
  {
   "cell_type": "code",
   "execution_count": 8,
   "id": "34668ab2-853c-4af6-b3f8-18f9ae3c45af",
   "metadata": {},
   "outputs": [],
   "source": [
    "# The four pillars of object-oriented programming (OOP) are:\n",
    "\n",
    "# Encapsulation: Encapsulation is the process of bundling data and methods that operate on that data within a single unit, such as a class. The data is hidden from the outside world and can only be accessed through public methods.\n",
    "\n",
    "# Inheritance: Inheritance is the mechanism of creating a new class from an existing class. The new class inherits all the properties and methods of the existing class and can also add new properties and methods of its own.\n",
    "\n",
    "# Polymorphism: Polymorphism is the ability of an object to take on many forms. In OOP, polymorphism refers to the ability of objects of different classes to be used interchangeably.\n",
    "\n",
    "# Abstraction: Abstraction is the process of hiding the implementation details of a system and exposing only the essential features to the user. In OOP, abstraction is achieved through abstract classes and interfaces."
   ]
  },
  {
   "cell_type": "code",
   "execution_count": 9,
   "id": "a3de1aa4-875b-4051-9f2f-e7c2e057cd25",
   "metadata": {},
   "outputs": [],
   "source": [
    "#Q3"
   ]
  },
  {
   "cell_type": "code",
   "execution_count": 10,
   "id": "22b2f5be-7646-431f-8748-af574f4812d6",
   "metadata": {},
   "outputs": [],
   "source": [
    "# The main purpose of __init__() method is to set initial values for the object's attributes. \n",
    "# These attributes can be passed as arguments when the object is instantiated, and then assigned to instance variables using the self keyword."
   ]
  },
  {
   "cell_type": "code",
   "execution_count": 11,
   "id": "4b01cc0d-b78e-43b5-a782-f6e9718df362",
   "metadata": {},
   "outputs": [],
   "source": [
    "class Person:\n",
    "    def __init__(self,name,age):\n",
    "        self.name = name\n",
    "        self.age = age"
   ]
  },
  {
   "cell_type": "code",
   "execution_count": 12,
   "id": "ccc4c7e8-8122-4ae4-b53e-81c478f0bfaf",
   "metadata": {},
   "outputs": [],
   "source": [
    "p1 = Person('ABC',21)\n",
    "p2 = Person('XYZ',25)"
   ]
  },
  {
   "cell_type": "code",
   "execution_count": 13,
   "id": "e04c748c-93b5-4373-a7a9-a2d116f737ac",
   "metadata": {},
   "outputs": [
    {
     "name": "stdout",
     "output_type": "stream",
     "text": [
      "ABC\n",
      "25\n"
     ]
    }
   ],
   "source": [
    "print(p1.name)\n",
    "print(p2.age)"
   ]
  },
  {
   "cell_type": "code",
   "execution_count": 14,
   "id": "d164f500-ec3f-4359-ae73-f4b1b04696b7",
   "metadata": {},
   "outputs": [],
   "source": [
    "#Q4"
   ]
  },
  {
   "cell_type": "code",
   "execution_count": 15,
   "id": "75159579-d243-4ed8-99aa-7f6544d74236",
   "metadata": {},
   "outputs": [],
   "source": [
    "# In Object-Oriented Programming (OOP), self is a reference variable that is used to refer to the instance of a class. \n",
    "# It is a convention in Python programming to use the name self to refer to this instance, although it can be given any name."
   ]
  },
  {
   "cell_type": "code",
   "execution_count": 16,
   "id": "fead02b7-fd1d-4fbe-a678-88103c83f62c",
   "metadata": {},
   "outputs": [],
   "source": [
    "#Q5"
   ]
  },
  {
   "cell_type": "code",
   "execution_count": 17,
   "id": "a7731f7a-0bb8-4507-b83d-6af81816f9ee",
   "metadata": {},
   "outputs": [],
   "source": [
    "# Inheritance is a fundamental concept in Object-Oriented Programming (OOP) that allows a class to inherit properties and methods from another class."
   ]
  },
  {
   "cell_type": "code",
   "execution_count": 18,
   "id": "5fa47d01-d205-40a0-94f5-bc58126e6b47",
   "metadata": {},
   "outputs": [],
   "source": [
    "class Animal:\n",
    "    def eat(self):\n",
    "        print('Eating...')\n",
    "\n",
    "class Dog(Animal):\n",
    "    def bark(self):\n",
    "        print('Barking...')"
   ]
  },
  {
   "cell_type": "code",
   "execution_count": 19,
   "id": "d985ca56-bc55-4928-9202-d83b5c0f6764",
   "metadata": {},
   "outputs": [],
   "source": [
    "dog = Dog()"
   ]
  },
  {
   "cell_type": "code",
   "execution_count": 20,
   "id": "09bf00d9-aaaa-4e62-aa19-21d77eba81a9",
   "metadata": {},
   "outputs": [
    {
     "name": "stdout",
     "output_type": "stream",
     "text": [
      "Eating...\n"
     ]
    }
   ],
   "source": [
    "dog.eat()"
   ]
  },
  {
   "cell_type": "code",
   "execution_count": 21,
   "id": "24108467-a6c6-47d3-8845-cc25c0eaa0cf",
   "metadata": {},
   "outputs": [
    {
     "name": "stdout",
     "output_type": "stream",
     "text": [
      "Barking...\n"
     ]
    }
   ],
   "source": [
    "dog.bark()"
   ]
  },
  {
   "cell_type": "code",
   "execution_count": null,
   "id": "34714e56-d594-47cb-96ed-2a9a047a265a",
   "metadata": {},
   "outputs": [],
   "source": []
  }
 ],
 "metadata": {
  "kernelspec": {
   "display_name": "Python 3 (ipykernel)",
   "language": "python",
   "name": "python3"
  },
  "language_info": {
   "codemirror_mode": {
    "name": "ipython",
    "version": 3
   },
   "file_extension": ".py",
   "mimetype": "text/x-python",
   "name": "python",
   "nbconvert_exporter": "python",
   "pygments_lexer": "ipython3",
   "version": "3.10.8"
  }
 },
 "nbformat": 4,
 "nbformat_minor": 5
}
