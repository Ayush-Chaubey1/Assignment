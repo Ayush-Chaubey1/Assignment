{
 "cells": [
  {
   "cell_type": "code",
   "execution_count": 1,
   "id": "5aef63a3-838b-4d7c-a4ec-df564085513b",
   "metadata": {},
   "outputs": [],
   "source": [
    "#Q1"
   ]
  },
  {
   "cell_type": "code",
   "execution_count": 2,
   "id": "cfc899c7-c78b-438b-bd48-83b8c2efa880",
   "metadata": {},
   "outputs": [
    {
     "name": "stdout",
     "output_type": "stream",
     "text": [
      "1\n",
      "2\n",
      "3\n",
      "4\n",
      "5\n"
     ]
    }
   ],
   "source": [
    "#for loop example\n",
    "list = [1,2,3,4,5]\n",
    "for i in list:\n",
    "    print(i)"
   ]
  },
  {
   "cell_type": "code",
   "execution_count": 5,
   "id": "10955c68-2d77-46fb-a39e-ba20d2aa67f8",
   "metadata": {},
   "outputs": [
    {
     "name": "stdout",
     "output_type": "stream",
     "text": [
      "55\n"
     ]
    }
   ],
   "source": [
    "#while loop example\n",
    "i = 0\n",
    "count = 0\n",
    "while i < 11:\n",
    "    count = count + i\n",
    "    i = i + 1\n",
    "print(count)"
   ]
  },
  {
   "cell_type": "code",
   "execution_count": 7,
   "id": "2b8f0ff9-4eab-4c0c-98c0-72c1e3eadda3",
   "metadata": {},
   "outputs": [],
   "source": [
    "#Q2 sum and product of first 10 natural numbers"
   ]
  },
  {
   "cell_type": "code",
   "execution_count": 9,
   "id": "5a59c719-1f83-47d2-b900-2868f523ad65",
   "metadata": {},
   "outputs": [
    {
     "name": "stdout",
     "output_type": "stream",
     "text": [
      "55\n"
     ]
    }
   ],
   "source": [
    "#sum using loops\n",
    "n = 11\n",
    "count = 0\n",
    "for i in range(0,n,1):\n",
    "    count = count + i\n",
    "print(count)"
   ]
  },
  {
   "cell_type": "code",
   "execution_count": 10,
   "id": "2cd68356-e9d6-4961-a39a-9d1c562124f8",
   "metadata": {},
   "outputs": [
    {
     "name": "stdout",
     "output_type": "stream",
     "text": [
      "55\n"
     ]
    }
   ],
   "source": [
    "i = 0\n",
    "count = 0\n",
    "while i <= 10:\n",
    "    count = count + i\n",
    "    i = i + 1\n",
    "print(count)"
   ]
  },
  {
   "cell_type": "code",
   "execution_count": 15,
   "id": "9b582982-da93-4912-91ed-db19c3995322",
   "metadata": {},
   "outputs": [
    {
     "name": "stdout",
     "output_type": "stream",
     "text": [
      "3628800\n"
     ]
    }
   ],
   "source": [
    "#product using loops\n",
    "n = 11\n",
    "count = 1\n",
    "for i in range(1,n,1):\n",
    "    count = count * i\n",
    "print(count)"
   ]
  },
  {
   "cell_type": "code",
   "execution_count": 16,
   "id": "6d158dfd-5d4c-4f31-a7cb-5c55a0d84033",
   "metadata": {},
   "outputs": [
    {
     "name": "stdout",
     "output_type": "stream",
     "text": [
      "3628800\n"
     ]
    }
   ],
   "source": [
    "i = 1\n",
    "count = 1\n",
    "while i <= 10:\n",
    "    count = count * i\n",
    "    i = i + 1\n",
    "print(count)"
   ]
  },
  {
   "cell_type": "code",
   "execution_count": 17,
   "id": "8a5c7734-8d65-477c-90f6-40a9582cea8e",
   "metadata": {},
   "outputs": [],
   "source": [
    "#Q3"
   ]
  },
  {
   "cell_type": "code",
   "execution_count": 22,
   "id": "cb4eb729-1781-4a9b-9ac6-ef4a6cacad2d",
   "metadata": {},
   "outputs": [
    {
     "name": "stdin",
     "output_type": "stream",
     "text": [
      "Enter the unitsconsumed in a month:  310\n"
     ]
    },
    {
     "name": "stdout",
     "output_type": "stream",
     "text": [
      "The total charges for 310 units consumed are Rs. 2250.0\n"
     ]
    }
   ],
   "source": [
    "units = int(input(\"Enter the units consumed in a month: \"))\n",
    "\n",
    "if units <= 100:\n",
    "    charges = units * 4.5\n",
    "elif units <= 200:\n",
    "    charges = 100 * 4.5 + (units - 100) * 6\n",
    "elif units <= 300:\n",
    "    charges = 100 * 4.5 + 100 * 6 + (units - 200) * 10\n",
    "else:\n",
    "    charges = 100 * 4.5 + 100 * 6 + 100 * 10 + (units - 300) * 20\n",
    "\n",
    "print(\"The total charges for\", units, \"units consumed are Rs.\", charges)"
   ]
  },
  {
   "cell_type": "code",
   "execution_count": 23,
   "id": "f49fd3c1-c04b-4a47-9146-2165b0632c34",
   "metadata": {},
   "outputs": [],
   "source": [
    "# Q4"
   ]
  },
  {
   "cell_type": "code",
   "execution_count": 5,
   "id": "808c1c0b-f75a-4e70-a62e-2c3ae7c618c7",
   "metadata": {},
   "outputs": [
    {
     "name": "stdout",
     "output_type": "stream",
     "text": [
      "[2, 4, 5, 6, 8, 10, 12, 14, 15, 16, 18, 20, 22, 24, 25, 26, 28, 30, 32, 34, 35, 36, 38, 40, 42, 44, 45, 46, 48, 50, 52, 54, 55, 56, 58, 60, 62, 64, 65, 66, 68, 70, 72, 74, 75, 76, 78, 80, 82, 84, 85, 86, 88, 90, 92, 94, 95, 96, 98, 100]\n"
     ]
    }
   ],
   "source": [
    "#using for loop\n",
    "l1 = []\n",
    "for i in range(1,101):\n",
    "    cube = i ** 3\n",
    "    if cube % 4 == 0 or cube % 5 == 0:\n",
    "        l1.append(i)\n",
    "print(l1)"
   ]
  },
  {
   "cell_type": "code",
   "execution_count": 6,
   "id": "06c13cfd-5b36-4295-b965-35a9b88189aa",
   "metadata": {},
   "outputs": [
    {
     "name": "stdout",
     "output_type": "stream",
     "text": [
      "[2, 4, 5, 6, 8, 10, 12, 14, 15, 16, 18, 20, 22, 24, 25, 26, 28, 30, 32, 34, 35, 36, 38, 40, 42, 44, 45, 46, 48, 50, 52, 54, 55, 56, 58, 60, 62, 64, 65, 66, 68, 70, 72, 74, 75, 76, 78, 80, 82, 84, 85, 86, 88, 90, 92, 94, 95, 96, 98, 100]\n"
     ]
    }
   ],
   "source": [
    "#using while loop\n",
    "l2 = []\n",
    "x = 1\n",
    "while x < 101:\n",
    "    cube = x ** 3\n",
    "    if cube % 4 == 0 or cube % 5 == 0:\n",
    "        l2.append(x)\n",
    "    x = x + 1\n",
    "print(l2)"
   ]
  },
  {
   "cell_type": "code",
   "execution_count": 7,
   "id": "0238bf48-3a4c-43cc-aa55-16672e6c9764",
   "metadata": {},
   "outputs": [],
   "source": [
    "#Q5"
   ]
  },
  {
   "cell_type": "code",
   "execution_count": 9,
   "id": "9926bd46-b821-4ce0-a657-006906df0086",
   "metadata": {},
   "outputs": [],
   "source": [
    "string = 'I want to become a data scientist'"
   ]
  },
  {
   "cell_type": "code",
   "execution_count": 13,
   "id": "4055ef7b-071b-449c-9c5f-042acb21701b",
   "metadata": {},
   "outputs": [
    {
     "name": "stdout",
     "output_type": "stream",
     "text": [
      "Vowels:  12\n"
     ]
    }
   ],
   "source": [
    "vowels = 'aeiou'\n",
    "count = 0\n",
    "for i in string:\n",
    "    if i.lower() in vowels:\n",
    "        count = count + 1\n",
    "        \n",
    "print('Vowels: ',count)"
   ]
  },
  {
   "cell_type": "code",
   "execution_count": null,
   "id": "0f1af077-c872-4048-96d4-1c4fab7dd5e9",
   "metadata": {},
   "outputs": [],
   "source": []
  }
 ],
 "metadata": {
  "kernelspec": {
   "display_name": "Python 3 (ipykernel)",
   "language": "python",
   "name": "python3"
  },
  "language_info": {
   "codemirror_mode": {
    "name": "ipython",
    "version": 3
   },
   "file_extension": ".py",
   "mimetype": "text/x-python",
   "name": "python",
   "nbconvert_exporter": "python",
   "pygments_lexer": "ipython3",
   "version": "3.10.8"
  }
 },
 "nbformat": 4,
 "nbformat_minor": 5
}
