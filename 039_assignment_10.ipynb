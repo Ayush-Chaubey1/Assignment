{
 "cells": [
  {
   "cell_type": "code",
   "execution_count": 1,
   "id": "f48f18c9-260e-4f76-b2e5-f259d1f590e7",
   "metadata": {},
   "outputs": [],
   "source": [
    "#Q1"
   ]
  },
  {
   "cell_type": "code",
   "execution_count": 2,
   "id": "68c768f4-74f4-4d20-9128-5897742c10d8",
   "metadata": {},
   "outputs": [],
   "source": [
    "class vehicle:\n",
    "    def __init__(self, name_of_vehicle, max_speed, average_of_vehicle):\n",
    "        self.name_of_vehicle = name_of_vehicle\n",
    "        self.max_speed = max_speed\n",
    "        self.average_of_vehicle = average_of_vehicle"
   ]
  },
  {
   "cell_type": "code",
   "execution_count": 3,
   "id": "8d89fcac-99b5-4d74-8598-9dcf41d0abc4",
   "metadata": {},
   "outputs": [],
   "source": [
    "car = vehicle('car',200,40)"
   ]
  },
  {
   "cell_type": "code",
   "execution_count": 4,
   "id": "cd3528dd-cd41-4484-9fa9-f95d4899ad32",
   "metadata": {},
   "outputs": [
    {
     "name": "stdout",
     "output_type": "stream",
     "text": [
      "car\n"
     ]
    }
   ],
   "source": [
    "print(car.name_of_vehicle)"
   ]
  },
  {
   "cell_type": "code",
   "execution_count": 5,
   "id": "1c9751a1-0c9e-4b77-ad35-158eaa1446c0",
   "metadata": {},
   "outputs": [
    {
     "name": "stdout",
     "output_type": "stream",
     "text": [
      "200\n"
     ]
    }
   ],
   "source": [
    "print(car.max_speed)"
   ]
  },
  {
   "cell_type": "code",
   "execution_count": 6,
   "id": "54e3be3f-49bd-41b8-9d3f-74b44ffe0db5",
   "metadata": {},
   "outputs": [
    {
     "name": "stdout",
     "output_type": "stream",
     "text": [
      "40\n"
     ]
    }
   ],
   "source": [
    "print(car.average_of_vehicle)"
   ]
  },
  {
   "cell_type": "code",
   "execution_count": 7,
   "id": "8e7146cb-a66c-4ae0-8e5c-9dba152c26bd",
   "metadata": {},
   "outputs": [],
   "source": [
    "#Q2"
   ]
  },
  {
   "cell_type": "code",
   "execution_count": 10,
   "id": "a0da78d7-1f92-4f3f-abc1-2c433c8da2d6",
   "metadata": {},
   "outputs": [],
   "source": [
    "class Car(vehicle):\n",
    "    def seating_capacity(self, capacity):\n",
    "        return f\"The {self.name_of_vehicle} has a seating capacity of {capacity}.\""
   ]
  },
  {
   "cell_type": "code",
   "execution_count": 11,
   "id": "94f98ba4-2d6f-4863-ad12-c450e4a64ad8",
   "metadata": {},
   "outputs": [],
   "source": [
    "car = Car(\"Car\", 200, 40)"
   ]
  },
  {
   "cell_type": "code",
   "execution_count": 12,
   "id": "dcb9446e-9f1e-479d-8abd-807c0195e0c2",
   "metadata": {},
   "outputs": [
    {
     "name": "stdout",
     "output_type": "stream",
     "text": [
      "The Car has a seating capacity of 5.\n"
     ]
    }
   ],
   "source": [
    "print(car.seating_capacity(5))"
   ]
  },
  {
   "cell_type": "code",
   "execution_count": 13,
   "id": "357c7254-3e00-4ff9-93c4-7c6aef6c4c63",
   "metadata": {},
   "outputs": [],
   "source": [
    "#Q3"
   ]
  },
  {
   "cell_type": "code",
   "execution_count": 14,
   "id": "a41d288e-b51b-45e6-b5ff-570e6e704108",
   "metadata": {},
   "outputs": [],
   "source": [
    "# Multiple inheritance - a class can inherit attributes and methods from multiple parent class"
   ]
  },
  {
   "cell_type": "code",
   "execution_count": 15,
   "id": "72251430-5930-4899-9ecd-fbc69c39a8a4",
   "metadata": {},
   "outputs": [],
   "source": [
    "class base1:\n",
    "    def greet(self):\n",
    "        print('hello from base1')"
   ]
  },
  {
   "cell_type": "code",
   "execution_count": 21,
   "id": "20df766a-56f7-4d1a-8f3d-79fab5eee0a2",
   "metadata": {},
   "outputs": [],
   "source": [
    "class base2:\n",
    "    def greets(self):\n",
    "        print('hello from base2')"
   ]
  },
  {
   "cell_type": "code",
   "execution_count": 22,
   "id": "3718c1ca-de96-410c-bb1c-360d80a22070",
   "metadata": {},
   "outputs": [],
   "source": [
    "class derived(base1,base2):\n",
    "    pass"
   ]
  },
  {
   "cell_type": "code",
   "execution_count": 23,
   "id": "9089d4cf-bbf1-4df2-ac74-6395b2f7b8cc",
   "metadata": {},
   "outputs": [],
   "source": [
    "obj = derived()"
   ]
  },
  {
   "cell_type": "code",
   "execution_count": 24,
   "id": "b47b91ab-9eb2-44cd-ae26-56e65a8c6542",
   "metadata": {},
   "outputs": [
    {
     "name": "stdout",
     "output_type": "stream",
     "text": [
      "hello from base1\n"
     ]
    }
   ],
   "source": [
    "obj.greet()"
   ]
  },
  {
   "cell_type": "code",
   "execution_count": 25,
   "id": "934a3429-26d5-44c3-a6ca-6b1f3cf3213b",
   "metadata": {},
   "outputs": [
    {
     "name": "stdout",
     "output_type": "stream",
     "text": [
      "hello from base2\n"
     ]
    }
   ],
   "source": [
    "obj.greets()"
   ]
  },
  {
   "cell_type": "code",
   "execution_count": 26,
   "id": "2e1c53ae-4b06-4bf2-93e7-66027f712c91",
   "metadata": {},
   "outputs": [],
   "source": [
    "#Q4"
   ]
  },
  {
   "cell_type": "code",
   "execution_count": 27,
   "id": "a1a80a60-cc78-4fbb-9698-fe96f88f1ff5",
   "metadata": {},
   "outputs": [],
   "source": [
    "# getter and setter are methods used to access and modify the values of class attributes"
   ]
  },
  {
   "cell_type": "code",
   "execution_count": 35,
   "id": "9076e3cf-111c-422b-856b-87500fa64082",
   "metadata": {},
   "outputs": [],
   "source": [
    "class Person:\n",
    "    def __init__(self, name):\n",
    "        self._name = name\n",
    "\n",
    "    def get_name(self):\n",
    "        return self._name\n",
    "\n",
    "    def set_name(self, name):\n",
    "        self._name = name"
   ]
  },
  {
   "cell_type": "code",
   "execution_count": 36,
   "id": "ffc72a52-2966-4495-b57e-0c0e84881b58",
   "metadata": {},
   "outputs": [],
   "source": [
    "person = Person(\"John\")"
   ]
  },
  {
   "cell_type": "code",
   "execution_count": 37,
   "id": "7c81e24d-7f6c-4fa8-ac2a-424ac02cd768",
   "metadata": {},
   "outputs": [
    {
     "name": "stdout",
     "output_type": "stream",
     "text": [
      "John\n"
     ]
    }
   ],
   "source": [
    "print(person.get_name())"
   ]
  },
  {
   "cell_type": "code",
   "execution_count": 38,
   "id": "033f2032-3909-4245-aec7-2c7f2e688017",
   "metadata": {},
   "outputs": [],
   "source": [
    "person.set_name('Alice')"
   ]
  },
  {
   "cell_type": "code",
   "execution_count": 39,
   "id": "2f5b9ff3-9512-41d4-a7cf-dca48d3662c7",
   "metadata": {},
   "outputs": [
    {
     "name": "stdout",
     "output_type": "stream",
     "text": [
      "Alice\n"
     ]
    }
   ],
   "source": [
    "print(person.get_name())"
   ]
  },
  {
   "cell_type": "code",
   "execution_count": 40,
   "id": "6f083b7d-8d02-4d95-bdbe-9945ee2ea5ce",
   "metadata": {},
   "outputs": [],
   "source": [
    "#Q5"
   ]
  },
  {
   "cell_type": "code",
   "execution_count": 41,
   "id": "3323d0d8-d411-498b-b6ec-305bb85b5046",
   "metadata": {},
   "outputs": [],
   "source": [
    "# method overriding is a concept in OOP where derived class provides its own implementation of a method that is already defined in its base class."
   ]
  },
  {
   "cell_type": "code",
   "execution_count": 44,
   "id": "feb13028-d580-4ba0-8530-c4a5d3638a0a",
   "metadata": {},
   "outputs": [],
   "source": [
    "class Shape:\n",
    "    def area(self):\n",
    "        print('calculating area in the base class.')\n",
    "        \n",
    "class Square(Shape):\n",
    "    def area(self):\n",
    "        print('calculating the area in square class.')"
   ]
  },
  {
   "cell_type": "code",
   "execution_count": 45,
   "id": "58e280fe-639c-4aa4-a8a6-2b33e27a1441",
   "metadata": {},
   "outputs": [],
   "source": [
    "shape = Shape()\n",
    "square = Square()"
   ]
  },
  {
   "cell_type": "code",
   "execution_count": 46,
   "id": "481917a2-23a9-45da-b763-af81d51d53a8",
   "metadata": {},
   "outputs": [
    {
     "name": "stdout",
     "output_type": "stream",
     "text": [
      "calculating area in the base class.\n"
     ]
    }
   ],
   "source": [
    "shape.area()"
   ]
  },
  {
   "cell_type": "code",
   "execution_count": null,
   "id": "90088686-8f91-41c3-b759-d6f8c6adc605",
   "metadata": {},
   "outputs": [],
   "source": [
    "square"
   ]
  }
 ],
 "metadata": {
  "kernelspec": {
   "display_name": "Python 3 (ipykernel)",
   "language": "python",
   "name": "python3"
  },
  "language_info": {
   "codemirror_mode": {
    "name": "ipython",
    "version": 3
   },
   "file_extension": ".py",
   "mimetype": "text/x-python",
   "name": "python",
   "nbconvert_exporter": "python",
   "pygments_lexer": "ipython3",
   "version": "3.10.8"
  }
 },
 "nbformat": 4,
 "nbformat_minor": 5
}
