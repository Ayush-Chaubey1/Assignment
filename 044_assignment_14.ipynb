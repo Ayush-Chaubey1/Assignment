{
 "cells": [
  {
   "cell_type": "code",
   "execution_count": 1,
   "id": "dff7e3b5-867c-4355-84b9-c88690e04adc",
   "metadata": {},
   "outputs": [],
   "source": [
    "#Q1"
   ]
  },
  {
   "cell_type": "code",
   "execution_count": 2,
   "id": "892de785-e684-4cd6-903f-febce04c416a",
   "metadata": {},
   "outputs": [],
   "source": [
    "# A database is a structured collection of data that is organized and stored in a way that allows for efficient retrieval, management, and manipulation of information.\n",
    "# SQL (Structured Query Language) Databases:\n",
    "# SQL databases are based on a relational model and use structured query language (SQL) for defining and manipulating the data.\n",
    "# NoSQL (Not Only SQL) Databases:\n",
    "# NoSQL databases depart from the traditional relational model and offer more flexible data models"
   ]
  },
  {
   "cell_type": "code",
   "execution_count": 3,
   "id": "a55cb881-27c7-4b57-8bca-36a358322e62",
   "metadata": {},
   "outputs": [],
   "source": [
    "#Q2"
   ]
  },
  {
   "cell_type": "code",
   "execution_count": 4,
   "id": "0ad10fee-93d3-41ce-b6f0-21362ac86cf8",
   "metadata": {},
   "outputs": [],
   "source": [
    "# DDL stands for Data Definition Language. It is a subset of SQL (Structured Query Language) that is used to define and manage the structure of a database and its objects. \n",
    "# DDL statements are responsible for creating, altering, and dropping database objects such as tables, indexes, views, and schemas.\n",
    "\n",
    "# CREATE:\n",
    "# The CREATE statement is used to create new database objects\n",
    "\n",
    "# DROP:\n",
    "# The DROP statement is used to remove or delete existing database objects.\n",
    "\n",
    "# ALTER:\n",
    "# The ALTER statement is used to modify the structure of an existing database object."
   ]
  },
  {
   "cell_type": "code",
   "execution_count": 5,
   "id": "e41cd9cb-40ad-4af7-ac2b-2fb98c69c9aa",
   "metadata": {},
   "outputs": [],
   "source": [
    "#Q3"
   ]
  },
  {
   "cell_type": "code",
   "execution_count": 6,
   "id": "34fb885f-7925-4798-b623-497398ca1477",
   "metadata": {},
   "outputs": [],
   "source": [
    "# DML stands for Data Manipulation Language. It is a subset of SQL (Structured Query Language) that is used to manipulate and modify the data stored in a database.\n",
    "\n",
    "# INSERT:\n",
    "# The INSERT statement is used to add new records or rows into a table.\n",
    "\n",
    "# UPDATE:\n",
    "# The UPDATE statement is used to modify existing records in a table.\n",
    "\n",
    "# DELETE:\n",
    "# The DELETE statement is used to remove records from a table based on specified conditions."
   ]
  },
  {
   "cell_type": "code",
   "execution_count": 7,
   "id": "fede83e3-c6c3-43c0-a03f-483dfac626df",
   "metadata": {},
   "outputs": [],
   "source": [
    "#Q4"
   ]
  },
  {
   "cell_type": "code",
   "execution_count": 8,
   "id": "3d9863f8-78a1-45ca-be11-c429d7e39aaf",
   "metadata": {},
   "outputs": [],
   "source": [
    "# DQL stands for Data Query Language. It is a subset of SQL (Structured Query Language) that is used to retrieve and query data from a database\n",
    "\n",
    "# SELECT: This part of the statement specifies the columns you want to retrieve from the table.\n",
    "# FROM: This part of the statement indicates the table from which the data should be retrieved.\n",
    "# WHERE: This optional part of the statement is used to filter the results based on certain conditions\n",
    "# ORDER BY: This optional part of the statement is used to sort the results based on a specified column."
   ]
  },
  {
   "cell_type": "code",
   "execution_count": 9,
   "id": "f90ec97c-9dff-4376-8ff1-092911902bca",
   "metadata": {},
   "outputs": [],
   "source": [
    "#Q5"
   ]
  },
  {
   "cell_type": "code",
   "execution_count": 10,
   "id": "459dd192-209c-47ec-bad3-f14dd0c4b231",
   "metadata": {},
   "outputs": [],
   "source": [
    "# Primary Key:\n",
    "# A primary key is a column or a combination of columns in a database table that uniquely identifies each row or record. \n",
    "# It ensures that every record in the table is unique and provides a way to access and reference individual records.\n",
    "\n",
    "# Foreign Key:\n",
    "# A foreign key is a column or a set of columns in a database table that refers to the primary key of another table. \n",
    "# It establishes a relationship between two tables by enforcing referential integrity, \n",
    "# which ensures that the values in the foreign key column(s) match values in the primary key column(s) of the referenced table."
   ]
  },
  {
   "cell_type": "code",
   "execution_count": 11,
   "id": "cf8da34b-2bc7-4904-b5df-c0cd55009993",
   "metadata": {},
   "outputs": [],
   "source": [
    "#Q6"
   ]
  },
  {
   "cell_type": "code",
   "execution_count": 12,
   "id": "2dc36053-7299-497f-8c8d-b03a771af514",
   "metadata": {},
   "outputs": [],
   "source": [
    "# import mysql.connector\n",
    "\n",
    "# connection = mysql.connector.connect(\n",
    "#     host=\"localhost\",\n",
    "#     user=\"your_username\",\n",
    "#     password=\"your_password\",\n",
    "#     database=\"your_database\"\n",
    "# )\n",
    "\n",
    "# cursor = connection.cursor()\n",
    "\n",
    "# query = \"SELECT * FROM Customers\"\n",
    "# cursor.execute(query)\n",
    "\n",
    "# results = cursor.fetchall()\n",
    "\n",
    "# for row in results:\n",
    "#     print(row)\n",
    "\n",
    "# cursor.close()\n",
    "# connection.close()"
   ]
  },
  {
   "cell_type": "code",
   "execution_count": 13,
   "id": "cf209a1e-38b1-4122-81dd-73287c1de8eb",
   "metadata": {},
   "outputs": [],
   "source": [
    "#Q7"
   ]
  },
  {
   "cell_type": "code",
   "execution_count": null,
   "id": "17debe8c-045a-46bb-9bab-a83daf3c0ee1",
   "metadata": {},
   "outputs": [],
   "source": [
    "# In a standard SQL query, the order of execution of the SQL clauses is as follows:\n",
    "\n",
    "# SELECT: The SELECT clause is used to specify the columns or expressions to be included in the result set. It is one of the first clauses evaluated in a query.\n",
    "\n",
    "# FROM: The FROM clause is used to specify the table(s) from which the data is retrieved. It determines the source tables for the query.\n",
    "\n",
    "# WHERE: The WHERE clause is used to filter the rows returned by the query based on specified conditions. It is applied after the FROM clause and narrows down the result set.\n",
    "\n",
    "# GROUP BY: The GROUP BY clause is used to group the rows in the result set based on one or more columns. It is typically used in conjunction with aggregate functions like SUM, COUNT, AVG, etc.\n",
    "\n",
    "# HAVING: The HAVING clause is used to filter the grouped rows based on specified conditions. It is applied after the GROUP BY clause and further narrows down the result set.\n",
    "\n",
    "# ORDER BY: The ORDER BY clause is used to sort the rows in the result set based on one or more columns. It is applied after the previous clauses and determines the order in which the rows are presented."
   ]
  }
 ],
 "metadata": {
  "kernelspec": {
   "display_name": "Python 3 (ipykernel)",
   "language": "python",
   "name": "python3"
  },
  "language_info": {
   "codemirror_mode": {
    "name": "ipython",
    "version": 3
   },
   "file_extension": ".py",
   "mimetype": "text/x-python",
   "name": "python",
   "nbconvert_exporter": "python",
   "pygments_lexer": "ipython3",
   "version": "3.10.8"
  }
 },
 "nbformat": 4,
 "nbformat_minor": 5
}
