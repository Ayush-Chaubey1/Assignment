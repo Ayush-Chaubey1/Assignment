{
 "cells": [
  {
   "cell_type": "code",
   "execution_count": 1,
   "id": "aeb9b5b6-ac22-4ae6-b013-4fd6fb9be223",
   "metadata": {},
   "outputs": [],
   "source": [
    "#Q1"
   ]
  },
  {
   "cell_type": "code",
   "execution_count": 2,
   "id": "f2be6288-5593-49a9-a03f-395b75211796",
   "metadata": {},
   "outputs": [],
   "source": [
    "# An exception in Python is an event that occurs during the execution of a program, which disrupts the normal flow of the program.\n",
    "# When an exception occurs, Python generates an exception object that represents the specific type of error or exceptional condition that occurred.\n",
    "\n",
    "# Exceptions are categorized into different types based on the kind of error they represent, such as ValueError, TypeError, FileNotFoundError, ZeroDivisionError, and many more.\n",
    "# Syntax errors: Syntax errors, also known as parsing errors, occur when the syntax of your code violates the rules of the Python language. "
   ]
  },
  {
   "cell_type": "code",
   "execution_count": 3,
   "id": "d7084e41-c31b-4e8c-a7ef-2ce3cb64d369",
   "metadata": {},
   "outputs": [],
   "source": [
    "#Q2"
   ]
  },
  {
   "cell_type": "code",
   "execution_count": 4,
   "id": "59b44876-0915-407a-87e3-49b200ddc9a9",
   "metadata": {},
   "outputs": [
    {
     "name": "stdout",
     "output_type": "stream",
     "text": [
      "An exception occured\n",
      "Programs continues\n"
     ]
    }
   ],
   "source": [
    "def divide_numbers(a, b):\n",
    "    return a/b\n",
    "\n",
    "try:\n",
    "    result = divide_numbers(10,0)\n",
    "    print('Result: ', result)\n",
    "    \n",
    "except:\n",
    "    print('An exception occured')\n",
    "    \n",
    "print('Programs continues')"
   ]
  },
  {
   "cell_type": "code",
   "execution_count": 5,
   "id": "e6ef557e-5a12-4237-8499-582b711e3791",
   "metadata": {},
   "outputs": [],
   "source": [
    "#Q3"
   ]
  },
  {
   "cell_type": "code",
   "execution_count": 6,
   "id": "2f76d51d-1f02-4206-b5e6-a987f3650f5e",
   "metadata": {},
   "outputs": [],
   "source": [
    "# In Python, the try-except statement is used to catch and handle exceptions."
   ]
  },
  {
   "cell_type": "code",
   "execution_count": 8,
   "id": "1b5daf98-38e2-4545-b9e5-6bc1d17b7f3f",
   "metadata": {},
   "outputs": [
    {
     "name": "stdin",
     "output_type": "stream",
     "text": [
      "Enter a number:  2\n",
      "Enter another number:  4\n"
     ]
    },
    {
     "name": "stdout",
     "output_type": "stream",
     "text": [
      "Result:  0.5\n"
     ]
    }
   ],
   "source": [
    "try:\n",
    "    num1 = int(input('Enter a number: '))\n",
    "    num2 = int(input('Enter another number: '))\n",
    "    result = num1/num2\n",
    "    print('Result: ', result)\n",
    "except ValueError:\n",
    "    print('Invalid input. Please enter valid integers.')\n",
    "except ZeroDivisionError:\n",
    "    print('Error: Division by zero is not allowed.')"
   ]
  },
  {
   "cell_type": "code",
   "execution_count": 9,
   "id": "f5c65c12-ccd2-4e4c-a5ed-a764adc69796",
   "metadata": {},
   "outputs": [],
   "source": [
    "#Q4"
   ]
  },
  {
   "cell_type": "code",
   "execution_count": 10,
   "id": "ad9553bc-2999-4cdf-94e8-670bcec6750c",
   "metadata": {},
   "outputs": [
    {
     "name": "stdin",
     "output_type": "stream",
     "text": [
      "Enter a number:  1\n",
      "Enter another number:  5\n"
     ]
    },
    {
     "name": "stdout",
     "output_type": "stream",
     "text": [
      "Result: 0.2\n"
     ]
    }
   ],
   "source": [
    "try:\n",
    "    num1 = int(input(\"Enter a number: \"))\n",
    "    num2 = int(input(\"Enter another number: \"))\n",
    "    result = num1 / num2\n",
    "except ValueError:\n",
    "    print(\"Invalid input. Please enter valid integers.\")\n",
    "except ZeroDivisionError:\n",
    "    print(\"Error: Division by zero is not allowed.\")\n",
    "else:\n",
    "    print(\"Result:\", result)\n",
    "    "
   ]
  },
  {
   "cell_type": "code",
   "execution_count": 12,
   "id": "11e4da4d-534e-477a-b58b-c17d8d9f8d81",
   "metadata": {},
   "outputs": [],
   "source": [
    "try:\n",
    "    file = open(\"example.txt\", \"r\")\n",
    "    content = file.read()\n",
    "    print(\"File content:\", content)\n",
    "except FileNotFoundError:\n",
    "    print(\"File not found.\")\n",
    "finally:\n",
    "    if file:\n",
    "        file.close()\n",
    "        print(\"File closed.\")"
   ]
  },
  {
   "cell_type": "code",
   "execution_count": 3,
   "id": "8fefdd5a-8914-4ca1-8c5b-729052e55f94",
   "metadata": {},
   "outputs": [
    {
     "name": "stdout",
     "output_type": "stream",
     "text": [
      "Error: Cannot divide by zero\n"
     ]
    }
   ],
   "source": [
    "def divide_numbers(a, b):\n",
    "    if b == 0:\n",
    "        raise ZeroDivisionError(\"Cannot divide by zero\")\n",
    "    return a / b\n",
    "\n",
    "try:\n",
    "    result = divide_numbers(10, 0)\n",
    "    print(\"Result:\", result)\n",
    "except ZeroDivisionError as error:\n",
    "    print(\"Error:\", error)"
   ]
  },
  {
   "cell_type": "code",
   "execution_count": 13,
   "id": "e4cf1a40-028e-419b-94ee-8b76708b7130",
   "metadata": {},
   "outputs": [],
   "source": [
    "#Q5"
   ]
  },
  {
   "cell_type": "code",
   "execution_count": 14,
   "id": "4132263c-abed-4578-89a9-196695063d00",
   "metadata": {},
   "outputs": [
    {
     "name": "stdout",
     "output_type": "stream",
     "text": [
      "Error: Invalid value: -5\n"
     ]
    }
   ],
   "source": [
    "class CustomException(Exception):\n",
    "    pass\n",
    "\n",
    "def check_value(value):\n",
    "    if value < 0:\n",
    "        raise CustomException(\"Invalid value: {}\".format(value))\n",
    "\n",
    "try:\n",
    "    check_value(-5)\n",
    "except CustomException as error:\n",
    "    print(\"Error:\", error)"
   ]
  },
  {
   "cell_type": "code",
   "execution_count": 15,
   "id": "80c1b696-bd59-4e63-98fb-d18bf92af6c2",
   "metadata": {},
   "outputs": [],
   "source": [
    "#Q6"
   ]
  },
  {
   "cell_type": "code",
   "execution_count": null,
   "id": "718fba1e-b5d3-41ba-b9c8-50d47ced65ee",
   "metadata": {},
   "outputs": [],
   "source": []
  }
 ],
 "metadata": {
  "kernelspec": {
   "display_name": "Python 3 (ipykernel)",
   "language": "python",
   "name": "python3"
  },
  "language_info": {
   "codemirror_mode": {
    "name": "ipython",
    "version": 3
   },
   "file_extension": ".py",
   "mimetype": "text/x-python",
   "name": "python",
   "nbconvert_exporter": "python",
   "pygments_lexer": "ipython3",
   "version": "3.10.8"
  }
 },
 "nbformat": 4,
 "nbformat_minor": 5
}
