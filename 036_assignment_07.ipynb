{
 "cells": [
  {
   "cell_type": "code",
   "execution_count": 1,
   "id": "927b540a-2fb9-4a79-a620-4224e6c54a80",
   "metadata": {},
   "outputs": [],
   "source": [
    "#Q1"
   ]
  },
  {
   "cell_type": "code",
   "execution_count": 2,
   "id": "afb87ddc-67c4-409d-8f7d-d90285e8fed1",
   "metadata": {},
   "outputs": [],
   "source": [
    "# Python programming language was developed by Guido van Rossum."
   ]
  },
  {
   "cell_type": "code",
   "execution_count": 3,
   "id": "67b782b0-72e7-4038-a586-3aff78742243",
   "metadata": {},
   "outputs": [],
   "source": [
    "#Q2"
   ]
  },
  {
   "cell_type": "code",
   "execution_count": 4,
   "id": "7be66a98-2cde-4bb5-8f7e-8b285c16599e",
   "metadata": {},
   "outputs": [],
   "source": [
    "# procedural programming, object oriented programming,fucntional programming, scripting"
   ]
  },
  {
   "cell_type": "code",
   "execution_count": 5,
   "id": "98688dca-165e-4683-bbf7-4032f4ebc564",
   "metadata": {},
   "outputs": [],
   "source": [
    "#Q3"
   ]
  },
  {
   "cell_type": "code",
   "execution_count": 6,
   "id": "a31d9534-0b0c-4bb6-8e8d-ef09acd44820",
   "metadata": {},
   "outputs": [],
   "source": [
    "# yes, python is case sensitive"
   ]
  },
  {
   "cell_type": "code",
   "execution_count": 7,
   "id": "6adebf68-9d69-427e-9dbe-9ce22310a000",
   "metadata": {},
   "outputs": [],
   "source": [
    "#Q4"
   ]
  },
  {
   "cell_type": "code",
   "execution_count": 8,
   "id": "e2262bc4-f5fa-4c79-91e6-c443a6573e82",
   "metadata": {},
   "outputs": [],
   "source": [
    "# ' .py ' is the correct extension "
   ]
  },
  {
   "cell_type": "code",
   "execution_count": 9,
   "id": "4bcf9d55-bca3-4768-9df0-515392e72fe8",
   "metadata": {},
   "outputs": [],
   "source": [
    "#Q5"
   ]
  },
  {
   "cell_type": "code",
   "execution_count": 10,
   "id": "2c0dac8d-115c-40e0-8bfe-938165aeb9e6",
   "metadata": {},
   "outputs": [],
   "source": [
    "# python code is directily interpreted"
   ]
  },
  {
   "cell_type": "code",
   "execution_count": 11,
   "id": "b73ff119-537c-4bf5-a769-bfef10ecb01e",
   "metadata": {},
   "outputs": [],
   "source": [
    "#Q6"
   ]
  },
  {
   "cell_type": "code",
   "execution_count": 12,
   "id": "54b6b0f0-a7cd-4405-ad69-46036a8a7b52",
   "metadata": {},
   "outputs": [],
   "source": [
    "#Fucntion definition"
   ]
  },
  {
   "cell_type": "code",
   "execution_count": 13,
   "id": "0d93b0a6-af15-41d1-9f9d-16a1a35a9d50",
   "metadata": {},
   "outputs": [],
   "source": [
    "# def my_function():\n",
    "    # statement"
   ]
  },
  {
   "cell_type": "code",
   "execution_count": 14,
   "id": "177cbbf2-7fad-46a1-ab6f-41005fbde846",
   "metadata": {},
   "outputs": [],
   "source": [
    "# conditional statement"
   ]
  },
  {
   "cell_type": "code",
   "execution_count": 15,
   "id": "9f3c897d-5801-4c9c-8536-cc2aa001346d",
   "metadata": {},
   "outputs": [],
   "source": [
    "# if condition:\n",
    "#     statement\n",
    "# else:\n",
    "#     statement"
   ]
  },
  {
   "cell_type": "code",
   "execution_count": 16,
   "id": "a58d7c71-2708-47ad-b028-4f599c8124b6",
   "metadata": {},
   "outputs": [],
   "source": [
    "#Loops"
   ]
  },
  {
   "cell_type": "code",
   "execution_count": 17,
   "id": "2eb037a2-1a73-4830-a15b-9198fb65aa1b",
   "metadata": {},
   "outputs": [],
   "source": [
    "# for item in iterable:\n",
    "#     statement"
   ]
  },
  {
   "cell_type": "code",
   "execution_count": 18,
   "id": "b332c8b8-ef74-406a-839c-01acd6b19ceb",
   "metadata": {},
   "outputs": [],
   "source": [
    "#class definition"
   ]
  },
  {
   "cell_type": "code",
   "execution_count": 19,
   "id": "6dc274cc-2377-481e-9196-460df7ddf188",
   "metadata": {},
   "outputs": [],
   "source": [
    "# class MyClass:\n",
    "#     # Code block starts here\n",
    "#     def __init__(self):\n",
    "#         # Constructor code block\n",
    "#         statement_1\n",
    "#         statement_2\n",
    "\n",
    "#     def my_method(self):\n",
    "#         # Method code block\n",
    "#         statement_3\n",
    "#         statement_4\n",
    "#     # Code block ends here"
   ]
  },
  {
   "cell_type": "code",
   "execution_count": 20,
   "id": "e558a426-67da-42df-b603-afb82d3f9cfa",
   "metadata": {},
   "outputs": [],
   "source": [
    "#Q7"
   ]
  },
  {
   "cell_type": "code",
   "execution_count": 21,
   "id": "e5c913f1-941c-42ca-95cf-afd8317ff055",
   "metadata": {},
   "outputs": [],
   "source": [
    "# ' # '"
   ]
  },
  {
   "cell_type": "code",
   "execution_count": 22,
   "id": "5de2eecf-36c2-44ad-bc56-201b39520563",
   "metadata": {},
   "outputs": [],
   "source": [
    "#Q8"
   ]
  },
  {
   "cell_type": "code",
   "execution_count": 23,
   "id": "6c573607-361b-4c15-8b6d-5142809141cd",
   "metadata": {},
   "outputs": [
    {
     "name": "stdout",
     "output_type": "stream",
     "text": [
      "Python version: 3.10.8 | packaged by conda-forge | (main, Nov 22 2022, 08:26:04) [GCC 10.4.0]\n"
     ]
    }
   ],
   "source": [
    "import sys\n",
    "\n",
    "print(\"Python version:\", sys.version)"
   ]
  },
  {
   "cell_type": "code",
   "execution_count": 24,
   "id": "94822591-1962-40ab-b002-b2408a9a005f",
   "metadata": {},
   "outputs": [],
   "source": [
    "#Q9"
   ]
  },
  {
   "cell_type": "code",
   "execution_count": 27,
   "id": "e6e03633-f491-45e8-97b0-4c505e75d506",
   "metadata": {},
   "outputs": [],
   "source": [
    "#lambda function"
   ]
  },
  {
   "cell_type": "code",
   "execution_count": null,
   "id": "53ac1358-b478-4f55-9ea6-f01c1b35738b",
   "metadata": {},
   "outputs": [],
   "source": [
    "#Q10"
   ]
  },
  {
   "cell_type": "code",
   "execution_count": 26,
   "id": "6fd2ba7b-5b32-4e1a-9cf2-c4b451af195b",
   "metadata": {},
   "outputs": [],
   "source": [
    "# pip stands for pip installs packages. It is a command line tool used for installing, managing, and uninstalling python packages and libraries."
   ]
  },
  {
   "cell_type": "code",
   "execution_count": 28,
   "id": "615881f4-b2a6-4b6a-8345-12a842c03389",
   "metadata": {},
   "outputs": [],
   "source": [
    "#Q11"
   ]
  },
  {
   "cell_type": "code",
   "execution_count": 29,
   "id": "0ecb9d4c-7d80-4912-8e55-f3dfde31f148",
   "metadata": {},
   "outputs": [],
   "source": [
    "# print(), input(), type(), len(), map(), sum()"
   ]
  },
  {
   "cell_type": "code",
   "execution_count": 30,
   "id": "8cd871a6-b970-4fff-95e0-55e13c826971",
   "metadata": {},
   "outputs": [],
   "source": [
    "#Q12"
   ]
  },
  {
   "cell_type": "code",
   "execution_count": 31,
   "id": "cb85fbae-dbcd-4ea8-834f-dbef4639e4e1",
   "metadata": {},
   "outputs": [],
   "source": [
    "# the max length is considered to be 255 characters"
   ]
  },
  {
   "cell_type": "code",
   "execution_count": 32,
   "id": "2dbbd66d-114f-4771-837d-818ff4d4df33",
   "metadata": {},
   "outputs": [],
   "source": [
    "#Q13"
   ]
  },
  {
   "cell_type": "code",
   "execution_count": 33,
   "id": "6bd28a60-b599-4d48-90ab-eae87ba0d32d",
   "metadata": {},
   "outputs": [],
   "source": [
    "# extensive library, cross platform compatibility, large and active community"
   ]
  },
  {
   "cell_type": "code",
   "execution_count": 34,
   "id": "15ce7032-ca0e-411e-8993-25eddb854bf4",
   "metadata": {},
   "outputs": [],
   "source": [
    "#Q14"
   ]
  },
  {
   "cell_type": "code",
   "execution_count": 35,
   "id": "4eda60b3-8e13-40cd-a6c5-c817496035f6",
   "metadata": {},
   "outputs": [],
   "source": [
    "# automatic memory allocation and deallocation, garbage collection, memory optimization"
   ]
  },
  {
   "cell_type": "code",
   "execution_count": 36,
   "id": "2de1b8cb-1be8-4fc9-a831-a52515696622",
   "metadata": {},
   "outputs": [],
   "source": [
    "#Q15"
   ]
  },
  {
   "cell_type": "code",
   "execution_count": 37,
   "id": "7e705b20-9fc3-4eb6-9cdf-322d456a12c2",
   "metadata": {},
   "outputs": [],
   "source": [
    "# To install Python on Windows and set the PATH variable, you can follow these steps:\n",
    "\n",
    "# Download Python: Visit the official Python website at www.python.org and go to the Downloads section. Choose the appropriate Python version for your system (e.g., Python 3.9.7) and click on the download link.\n",
    "\n",
    "# Run the Installer: Once the installer is downloaded, double-click on the executable file to run it. You may need administrative privileges to install Python.\n",
    "\n",
    "# Customize Installation (Optional): In the Python installer, you can choose the installation location and select additional features if desired. By default, the \"Add Python to PATH\" option is enabled, which automatically sets the PATH variable for you. Ensure this option is checked before proceeding.\n",
    "\n",
    "# Start Installation: Click on the \"Install Now\" button to start the installation process. The installer will extract the necessary files and install Python on your system.\n",
    "\n",
    "# Verify Installation: After the installation is complete, open the Command Prompt or PowerShell and type python --version. This command should display the installed Python version. You can also run pip --version to check the version of the pip package manager.\n",
    "\n",
    "# Set PATH Variable (If not added automatically): If the Python installation didn't add the Python executable path to the PATH variable automatically, you can set it manually. Follow these steps:\n",
    "\n",
    "# Open the Start menu and search for \"Environment Variables\" and click on \"Edit the system environment variables.\"\n",
    "# In the \"System Properties\" window, click on the \"Environment Variables\" button.\n",
    "# In the \"Environment Variables\" window, under \"System variables,\" scroll down and locate the \"Path\" variable.\n",
    "# Select the \"Path\" variable and click on the \"Edit\" button.\n",
    "# In the \"Edit Environment Variable\" window, click on the \"New\" button and add the path to your Python installation directory. By default, it is something like C:\\Python39 or C:\\Python39\\Scripts for Python 3.9.\n",
    "# Click \"OK\" to save the changes.\n",
    "# Verify PATH Variable: Open a new Command Prompt or PowerShell window and type python --version again. It should now display the Python version without any issues.\n",
    "\n",
    "# By following these steps, you can install Python on Windows and set the PATH variable to make it accessible from any command prompt or PowerShell session."
   ]
  },
  {
   "cell_type": "code",
   "execution_count": 38,
   "id": "94bac1c9-60fd-445c-86c1-8d9956fc3ef3",
   "metadata": {},
   "outputs": [],
   "source": [
    "#Q16"
   ]
  },
  {
   "cell_type": "code",
   "execution_count": null,
   "id": "b272e2d6-276c-4ba7-acf5-1abd92d5818c",
   "metadata": {},
   "outputs": [],
   "source": [
    "# yes, indentation is requied in python"
   ]
  }
 ],
 "metadata": {
  "kernelspec": {
   "display_name": "Python 3 (ipykernel)",
   "language": "python",
   "name": "python3"
  },
  "language_info": {
   "codemirror_mode": {
    "name": "ipython",
    "version": 3
   },
   "file_extension": ".py",
   "mimetype": "text/x-python",
   "name": "python",
   "nbconvert_exporter": "python",
   "pygments_lexer": "ipython3",
   "version": "3.10.8"
  }
 },
 "nbformat": 4,
 "nbformat_minor": 5
}
