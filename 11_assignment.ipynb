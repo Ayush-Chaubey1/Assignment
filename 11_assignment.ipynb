{
 "cells": [
  {
   "cell_type": "code",
   "execution_count": 14,
   "id": "1a993285-cf9f-485a-8977-2ca760ca3d9f",
   "metadata": {},
   "outputs": [],
   "source": [
    "#Q1\n",
    "def oddnum(l):\n",
    "    l1 = []\n",
    "    for i in l:\n",
    "        if i % 2 == 1:\n",
    "            l1.append(i)\n",
    "    return l1"
   ]
  },
  {
   "cell_type": "code",
   "execution_count": 15,
   "id": "ff376d82-0c8f-4cbb-813c-eff3e2a9c4d1",
   "metadata": {},
   "outputs": [
    {
     "name": "stdout",
     "output_type": "stream",
     "text": [
      "[1, 2, 3, 4, 5, 6, 7, 8, 9, 10, 11, 12, 13, 14, 15, 16, 17, 18, 19, 20, 21, 22, 23, 24, 25]\n"
     ]
    }
   ],
   "source": [
    "l = []\n",
    "for i in range(1,26):\n",
    "    l.append(i)\n",
    "print(l)"
   ]
  },
  {
   "cell_type": "code",
   "execution_count": 22,
   "id": "3dc4bb0e-c4e1-4ec6-b72d-5a78b81873f6",
   "metadata": {},
   "outputs": [
    {
     "data": {
      "text/plain": [
       "[1, 3, 5, 7, 9, 11, 13, 15, 17, 19, 21, 23, 25]"
      ]
     },
     "execution_count": 22,
     "metadata": {},
     "output_type": "execute_result"
    }
   ],
   "source": [
    "oddnum(l)"
   ]
  },
  {
   "cell_type": "code",
   "execution_count": null,
   "id": "18acec64-783b-4be3-9922-183d8152cc91",
   "metadata": {},
   "outputs": [],
   "source": [
    "#def keyword is used"
   ]
  },
  {
   "cell_type": "code",
   "execution_count": 17,
   "id": "e08cd040-5953-4761-8324-79d1dfccb849",
   "metadata": {},
   "outputs": [],
   "source": [
    "#Q2"
   ]
  },
  {
   "cell_type": "code",
   "execution_count": 18,
   "id": "471af698-9d6e-4ad1-b60b-cefc3028f926",
   "metadata": {},
   "outputs": [],
   "source": [
    "def test(*args):\n",
    "    return args"
   ]
  },
  {
   "cell_type": "code",
   "execution_count": 19,
   "id": "cfcd44c1-55f9-46ff-9a44-4cd0389a0f70",
   "metadata": {},
   "outputs": [
    {
     "data": {
      "text/plain": [
       "(1, 2, 3, 4, 5)"
      ]
     },
     "execution_count": 19,
     "metadata": {},
     "output_type": "execute_result"
    }
   ],
   "source": [
    "test(1,2,3,4,5)"
   ]
  },
  {
   "cell_type": "code",
   "execution_count": 20,
   "id": "600f0b15-7422-49ba-90ff-d8925a1c0bcd",
   "metadata": {},
   "outputs": [],
   "source": [
    "def test2(**kwargs):\n",
    "    return kwargs"
   ]
  },
  {
   "cell_type": "code",
   "execution_count": 21,
   "id": "38a9e81a-5642-4ac9-a217-9f7e97dc4141",
   "metadata": {},
   "outputs": [
    {
     "data": {
      "text/plain": [
       "{'a': [1, 2, 3, 4, 5], 'b': 'pwskills', 'c': 23.23}"
      ]
     },
     "execution_count": 21,
     "metadata": {},
     "output_type": "execute_result"
    }
   ],
   "source": [
    "test2(a = [1,2,3,4,5] , b = 'pwskills' , c = 23.23)"
   ]
  },
  {
   "cell_type": "code",
   "execution_count": 23,
   "id": "4bad6cc1-6aac-47c2-8189-43c255eb133e",
   "metadata": {},
   "outputs": [],
   "source": [
    "# args is for many argumnets in a function and output is in tuple and in kwargs output is in dictionary"
   ]
  },
  {
   "cell_type": "code",
   "execution_count": 24,
   "id": "19c9bdb1-1b8b-4698-9537-50e4c40e635c",
   "metadata": {},
   "outputs": [],
   "source": [
    "#Q3"
   ]
  },
  {
   "cell_type": "code",
   "execution_count": 25,
   "id": "e0f3c0d7-5ca6-40aa-8ce2-a9df9a38af4a",
   "metadata": {},
   "outputs": [],
   "source": [
    "# An iterator helps you to travel through an collection of element for eg. list ,tuple etc"
   ]
  },
  {
   "cell_type": "code",
   "execution_count": 26,
   "id": "00610c7e-84cc-4a82-bc26-d1d00df88c02",
   "metadata": {},
   "outputs": [],
   "source": [
    "list = [2, 4, 6, 8, 10, 12, 14, 16, 18, 20]"
   ]
  },
  {
   "cell_type": "code",
   "execution_count": 28,
   "id": "3232d7ee-17ec-4acf-bad3-424d8231b792",
   "metadata": {},
   "outputs": [
    {
     "name": "stdout",
     "output_type": "stream",
     "text": [
      "2\n",
      "4\n",
      "6\n",
      "8\n",
      "10\n"
     ]
    }
   ],
   "source": [
    "iterator = iter(list)\n",
    "for i in range(5):\n",
    "    print(next(iterator))"
   ]
  },
  {
   "cell_type": "code",
   "execution_count": 29,
   "id": "e1ec7757-a268-4696-b166-098b4fe4a4be",
   "metadata": {},
   "outputs": [],
   "source": [
    "# Q4"
   ]
  },
  {
   "cell_type": "code",
   "execution_count": 30,
   "id": "dd747f21-bd6b-4e46-9bdc-38f119adcdd8",
   "metadata": {},
   "outputs": [],
   "source": [
    "# generator function uses yield and gives output one by one"
   ]
  },
  {
   "cell_type": "code",
   "execution_count": 33,
   "id": "e944cd53-273a-4b35-892e-0cb71b16c530",
   "metadata": {},
   "outputs": [],
   "source": [
    "def test(n):\n",
    "    for i in range(n):\n",
    "        yield i"
   ]
  },
  {
   "cell_type": "code",
   "execution_count": 34,
   "id": "e81a4919-c9de-4a63-a99d-70e30f6157b7",
   "metadata": {},
   "outputs": [
    {
     "data": {
      "text/plain": [
       "<generator object test at 0x7fd03823c350>"
      ]
     },
     "execution_count": 34,
     "metadata": {},
     "output_type": "execute_result"
    }
   ],
   "source": [
    "test(5)"
   ]
  },
  {
   "cell_type": "code",
   "execution_count": 35,
   "id": "336465ac-78ec-421c-a6ab-bc6c642c1af3",
   "metadata": {},
   "outputs": [
    {
     "name": "stdout",
     "output_type": "stream",
     "text": [
      "0\n",
      "1\n",
      "2\n",
      "3\n",
      "4\n"
     ]
    }
   ],
   "source": [
    "for i in test(5):\n",
    "    print(i)"
   ]
  },
  {
   "cell_type": "code",
   "execution_count": 1,
   "id": "33c49649-be50-4b3a-88d2-ff5f5f594e08",
   "metadata": {},
   "outputs": [],
   "source": [
    "#Q5"
   ]
  },
  {
   "cell_type": "code",
   "execution_count": 2,
   "id": "a1694ef0-9806-4265-bc56-0e6456f205ee",
   "metadata": {},
   "outputs": [],
   "source": [
    "def prime():\n",
    "    num = 2\n",
    "    while num < 1000:\n",
    "        is_prime = True\n",
    "        for i in range(2, int(num**0.5) + 1):\n",
    "            if num % i == 0:\n",
    "                is_prime = False\n",
    "                break\n",
    "        if is_prime:\n",
    "            yield num\n",
    "        num += 1"
   ]
  },
  {
   "cell_type": "code",
   "execution_count": 3,
   "id": "761b826e-fb57-4c40-80b2-66036c311473",
   "metadata": {},
   "outputs": [
    {
     "name": "stdout",
     "output_type": "stream",
     "text": [
      "2\n",
      "3\n",
      "5\n",
      "7\n",
      "11\n",
      "13\n",
      "17\n",
      "19\n",
      "23\n",
      "29\n",
      "31\n",
      "37\n",
      "41\n",
      "43\n",
      "47\n",
      "53\n",
      "59\n",
      "61\n",
      "67\n",
      "71\n"
     ]
    }
   ],
   "source": [
    "prime_gen = prime()\n",
    "for i in range(20):\n",
    "    print(next(prime_gen))"
   ]
  },
  {
   "cell_type": "code",
   "execution_count": 4,
   "id": "a184c5a8-5652-4676-b9c7-cd63b6ba3256",
   "metadata": {},
   "outputs": [],
   "source": [
    "#Q6"
   ]
  },
  {
   "cell_type": "code",
   "execution_count": 6,
   "id": "f0c7466c-92c8-48cd-9ee3-b00b29e27242",
   "metadata": {},
   "outputs": [
    {
     "name": "stdout",
     "output_type": "stream",
     "text": [
      "0\n",
      "1\n",
      "1\n",
      "2\n",
      "3\n",
      "5\n",
      "8\n",
      "13\n",
      "21\n",
      "34\n"
     ]
    }
   ],
   "source": [
    "a , b = 0 , 1\n",
    "count = 0\n",
    "while count < 10:\n",
    "    print(a)\n",
    "    a, b = b , a+b\n",
    "    count += 1"
   ]
  },
  {
   "cell_type": "code",
   "execution_count": 7,
   "id": "9d2cd786-513f-4750-899a-2dc544fca20b",
   "metadata": {},
   "outputs": [],
   "source": [
    "#Q7"
   ]
  },
  {
   "cell_type": "code",
   "execution_count": 8,
   "id": "1f453f32-27a2-4959-8eaa-0d195ef3ada8",
   "metadata": {},
   "outputs": [
    {
     "name": "stdout",
     "output_type": "stream",
     "text": [
      "['p', 'w', 's', 'k', 'i', 'l', 'l', 's']\n"
     ]
    }
   ],
   "source": [
    "s = 'pwskills'\n",
    "result = [i for i in s if i in 'pwskil']\n",
    "print(result)"
   ]
  },
  {
   "cell_type": "code",
   "execution_count": 9,
   "id": "d8491e6a-b1be-4135-a32c-91c8ead697f2",
   "metadata": {},
   "outputs": [],
   "source": [
    "#Q8"
   ]
  },
  {
   "cell_type": "code",
   "execution_count": 11,
   "id": "6d05d433-f054-4009-8d2f-941a6e982666",
   "metadata": {},
   "outputs": [
    {
     "name": "stdin",
     "output_type": "stream",
     "text": [
      "Enter the number:  9\n"
     ]
    },
    {
     "name": "stdout",
     "output_type": "stream",
     "text": [
      "9  is a palindrome number\n"
     ]
    }
   ],
   "source": [
    "number = int(input('Enter the number: '))\n",
    "temp = number\n",
    "reverse = 0\n",
    "while temp != 0:\n",
    "    remainder = temp % 10\n",
    "    reverse = reverse * 10 + remainder\n",
    "    temp //= 10\n",
    "if number == reverse:\n",
    "    print(number, ' is a palindrome number')\n",
    "else:\n",
    "    print(number, ' is not a palindrome number')"
   ]
  },
  {
   "cell_type": "code",
   "execution_count": 12,
   "id": "ed047068-f402-4d6b-8bca-5fcab1b32f33",
   "metadata": {},
   "outputs": [],
   "source": [
    "#Q9"
   ]
  },
  {
   "cell_type": "code",
   "execution_count": 13,
   "id": "e3c424c0-7bc4-4900-8dae-827157c3d7b2",
   "metadata": {},
   "outputs": [
    {
     "name": "stdout",
     "output_type": "stream",
     "text": [
      "[1, 3, 5, 7, 9, 11, 13, 15, 17, 19, 21, 23, 25, 27, 29, 31, 33, 35, 37, 39, 41, 43, 45, 47, 49, 51, 53, 55, 57, 59, 61, 63, 65, 67, 69, 71, 73, 75, 77, 79, 81, 83, 85, 87, 89, 91, 93, 95, 97, 99]\n"
     ]
    }
   ],
   "source": [
    "odd_num = [i for i in range(1, 101) if i % 2 != 0]\n",
    "print(odd_num)"
   ]
  }
 ],
 "metadata": {
  "kernelspec": {
   "display_name": "Python 3 (ipykernel)",
   "language": "python",
   "name": "python3"
  },
  "language_info": {
   "codemirror_mode": {
    "name": "ipython",
    "version": 3
   },
   "file_extension": ".py",
   "mimetype": "text/x-python",
   "name": "python",
   "nbconvert_exporter": "python",
   "pygments_lexer": "ipython3",
   "version": "3.10.8"
  }
 },
 "nbformat": 4,
 "nbformat_minor": 5
}
