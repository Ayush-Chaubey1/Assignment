{
 "cells": [
  {
   "cell_type": "code",
   "execution_count": 1,
   "id": "70c05072-d15c-468d-a2c2-1fdd0de702f6",
   "metadata": {},
   "outputs": [],
   "source": [
    "#Q1"
   ]
  },
  {
   "cell_type": "code",
   "execution_count": 6,
   "id": "8cc69ce1-a936-4aa3-89fe-6c7b6d2fa4a6",
   "metadata": {},
   "outputs": [
    {
     "name": "stdout",
     "output_type": "stream",
     "text": [
      "[('Virat Kohli', 24936), ('Jack Kallis', 25534), ('Ricky Ponting', 27483), ('Sachin Tendulkar', 34357)]\n"
     ]
    }
   ],
   "source": [
    "my_list = [('Sachin Tendulkar', 34357), ('Ricky Ponting', 27483), ('Jack Kallis', 25534), ('Virat Kohli', 24936)]\n",
    "my_list.sort(key=lambda x:x[1])\n",
    "print(my_list)"
   ]
  },
  {
   "cell_type": "code",
   "execution_count": 7,
   "id": "cfb669f9-214a-4fa4-bb3f-bb646db90caa",
   "metadata": {},
   "outputs": [],
   "source": [
    "#Q2"
   ]
  },
  {
   "cell_type": "code",
   "execution_count": 8,
   "id": "52336e69-d55a-453d-bd88-a6fd3edd5d10",
   "metadata": {},
   "outputs": [
    {
     "name": "stdout",
     "output_type": "stream",
     "text": [
      "[1, 4, 9, 16, 25, 36, 49, 64, 81, 100]\n"
     ]
    }
   ],
   "source": [
    "my_list = [1, 2, 3, 4, 5, 6, 7, 8, 9, 10]\n",
    "sq = list(map(lambda x : x**2 , my_list))\n",
    "print(sq)"
   ]
  },
  {
   "cell_type": "code",
   "execution_count": 1,
   "id": "15f16ac0-bf43-470c-bdc6-1692a530c8c6",
   "metadata": {},
   "outputs": [],
   "source": [
    "#Q3"
   ]
  },
  {
   "cell_type": "code",
   "execution_count": 3,
   "id": "67279b88-8938-44be-8812-07e91a21c910",
   "metadata": {},
   "outputs": [
    {
     "name": "stdout",
     "output_type": "stream",
     "text": [
      "('1', '2', '3', '4', '5', '6', '7', '8', '9', '10')\n"
     ]
    }
   ],
   "source": [
    "my_list = [1,2,3,4,5,6,7,8,9,10]\n",
    "list1 = tuple(map(lambda x : str(x), my_list))\n",
    "print(list1)"
   ]
  },
  {
   "cell_type": "code",
   "execution_count": 4,
   "id": "e34811bf-bed3-449b-b826-c1376aa68fb7",
   "metadata": {},
   "outputs": [],
   "source": [
    "#Q4"
   ]
  },
  {
   "cell_type": "code",
   "execution_count": 5,
   "id": "f0dc39e7-c077-44e7-8c2f-24e9a2c46e99",
   "metadata": {},
   "outputs": [],
   "source": [
    "from functools import reduce"
   ]
  },
  {
   "cell_type": "code",
   "execution_count": 6,
   "id": "6f498a81-e959-4956-ac92-c214289e044d",
   "metadata": {},
   "outputs": [
    {
     "name": "stdout",
     "output_type": "stream",
     "text": [
      "15511210043330985984000000\n"
     ]
    }
   ],
   "source": [
    "list1 = list(range(1,26))\n",
    "product = reduce(lambda x , y : x * y , list1)\n",
    "print(product)"
   ]
  },
  {
   "cell_type": "code",
   "execution_count": 7,
   "id": "f8c5ba5a-41fb-4ee6-81d2-5e894570bc5c",
   "metadata": {},
   "outputs": [],
   "source": [
    "#Q5"
   ]
  },
  {
   "cell_type": "code",
   "execution_count": 9,
   "id": "0efd28f1-46f9-4181-8527-ea872a154f9e",
   "metadata": {},
   "outputs": [
    {
     "name": "stdout",
     "output_type": "stream",
     "text": [
      "[6, 60, 90, 120]\n"
     ]
    }
   ],
   "source": [
    "my_list = [2, 3, 6, 9, 27, 60, 90, 120, 55, 46]\n",
    "result = list(filter(lambda x : (x % 2 == 0) and (x % 3 ==0), my_list))\n",
    "print(result)"
   ]
  },
  {
   "cell_type": "code",
   "execution_count": 10,
   "id": "ff34cc9e-5581-47b8-9653-091a72f55432",
   "metadata": {},
   "outputs": [],
   "source": [
    "#Q6"
   ]
  },
  {
   "cell_type": "code",
   "execution_count": 11,
   "id": "1588ce8a-0054-4fc5-a76c-d72dc6ef174f",
   "metadata": {},
   "outputs": [
    {
     "name": "stdout",
     "output_type": "stream",
     "text": [
      "['php', 'aba', 'radar', 'level']\n"
     ]
    }
   ],
   "source": [
    "my_list = ['python', 'php', 'aba', 'radar', 'level']\n",
    "palindrome = list(filter(lambda x : x==x[::-1], my_list))\n",
    "print(palindrome)"
   ]
  },
  {
   "cell_type": "code",
   "execution_count": null,
   "id": "0bfdf8ba-3821-4439-8313-03e9f9754cdc",
   "metadata": {},
   "outputs": [],
   "source": []
  }
 ],
 "metadata": {
  "kernelspec": {
   "display_name": "Python 3 (ipykernel)",
   "language": "python",
   "name": "python3"
  },
  "language_info": {
   "codemirror_mode": {
    "name": "ipython",
    "version": 3
   },
   "file_extension": ".py",
   "mimetype": "text/x-python",
   "name": "python",
   "nbconvert_exporter": "python",
   "pygments_lexer": "ipython3",
   "version": "3.10.8"
  }
 },
 "nbformat": 4,
 "nbformat_minor": 5
}
