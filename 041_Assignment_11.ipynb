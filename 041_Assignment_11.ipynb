{
 "cells": [
  {
   "cell_type": "code",
   "execution_count": 1,
   "id": "5ef4f5db-67c0-4b72-8583-eb5388b6b336",
   "metadata": {},
   "outputs": [],
   "source": [
    "#Q1"
   ]
  },
  {
   "cell_type": "code",
   "execution_count": 2,
   "id": "3dc9033f-d0b5-4b8b-8e58-d3c4085b4205",
   "metadata": {},
   "outputs": [],
   "source": [
    "# the open() function is used to open a file. It returns a file file object that allows you to perform various operations on the file"
   ]
  },
  {
   "cell_type": "code",
   "execution_count": 3,
   "id": "fa8068be-d477-4ef6-b0f3-84dd9e5581dd",
   "metadata": {},
   "outputs": [],
   "source": [
    "# eg: file_obj = open(file_name, mode)"
   ]
  },
  {
   "cell_type": "code",
   "execution_count": 4,
   "id": "fce2af5b-7420-4fae-8a4e-9c9af4ce5a73",
   "metadata": {},
   "outputs": [],
   "source": [
    "#Q2"
   ]
  },
  {
   "cell_type": "code",
   "execution_count": 5,
   "id": "6905a14c-95da-4dae-8db5-292ba74adca6",
   "metadata": {},
   "outputs": [],
   "source": [
    "# The close() function is used to close file. It is important to close a file after you've finished working with it."
   ]
  },
  {
   "cell_type": "code",
   "execution_count": 6,
   "id": "f7397795-8571-4018-ae02-9f7169976e94",
   "metadata": {},
   "outputs": [],
   "source": [
    "# a. free up system resources\n",
    "# b. ensuring data integrity\n",
    "# c. allowing other processess tp access files"
   ]
  },
  {
   "cell_type": "code",
   "execution_count": 7,
   "id": "c7723ca2-87f6-4356-8e6d-b50d91876617",
   "metadata": {},
   "outputs": [],
   "source": [
    "#Q3"
   ]
  },
  {
   "cell_type": "code",
   "execution_count": 8,
   "id": "60af6bf0-7e57-458f-86fb-cef077ba0696",
   "metadata": {},
   "outputs": [],
   "source": [
    "file_name = 'data_scientist.txt'"
   ]
  },
  {
   "cell_type": "code",
   "execution_count": 9,
   "id": "743a41c7-84d2-45ce-845b-35c66865b269",
   "metadata": {},
   "outputs": [],
   "source": [
    "file = open(file_name, 'w')"
   ]
  },
  {
   "cell_type": "code",
   "execution_count": 10,
   "id": "2afd28d1-5c1a-4c04-a02b-fa35033df1af",
   "metadata": {},
   "outputs": [
    {
     "data": {
      "text/plain": [
       "33"
      ]
     },
     "execution_count": 10,
     "metadata": {},
     "output_type": "execute_result"
    }
   ],
   "source": [
    "file.write('I want to become a data scientist')"
   ]
  },
  {
   "cell_type": "code",
   "execution_count": 11,
   "id": "0f41c6e7-a3cf-4858-891c-4b623d97000d",
   "metadata": {},
   "outputs": [],
   "source": [
    "file.close()"
   ]
  },
  {
   "cell_type": "code",
   "execution_count": 12,
   "id": "976da16c-4645-46cb-a44c-bcffd898cbfb",
   "metadata": {},
   "outputs": [],
   "source": [
    "#Q4"
   ]
  },
  {
   "cell_type": "code",
   "execution_count": 13,
   "id": "55d31fc8-795a-40ca-9e11-bb7233288776",
   "metadata": {},
   "outputs": [],
   "source": [
    "# read(): The read() method is used to read the entire contents of a file.\n",
    "# readline(): The readline() method is used to read a single line from a file.\n",
    "# readlines(): The readlines() method is used to read all the lines of a file and return them as a list."
   ]
  },
  {
   "cell_type": "code",
   "execution_count": 14,
   "id": "c6b8964c-ca9e-4034-99a2-3e3aa14d602d",
   "metadata": {},
   "outputs": [],
   "source": [
    "#Q5"
   ]
  },
  {
   "cell_type": "code",
   "execution_count": 15,
   "id": "e434e3eb-5e14-4522-a839-563e81691727",
   "metadata": {},
   "outputs": [],
   "source": [
    "# The with statement in Python is used in conjunction with the open() function to provide a convenient and safe way to work with files."
   ]
  },
  {
   "cell_type": "code",
   "execution_count": 16,
   "id": "df70e634-2c1c-4294-922d-c702289f62f1",
   "metadata": {},
   "outputs": [],
   "source": [
    "#Q6"
   ]
  },
  {
   "cell_type": "code",
   "execution_count": null,
   "id": "56ba64be-5070-4974-9ae2-1d30f0d362b2",
   "metadata": {},
   "outputs": [],
   "source": [
    "# write(): The write() function is used to write a string or a sequence of characters to a file.\n",
    "# writelines(): The writelines() function is used to write a list or iterable of strings to a file, where each string represents a line."
   ]
  }
 ],
 "metadata": {
  "kernelspec": {
   "display_name": "Python 3 (ipykernel)",
   "language": "python",
   "name": "python3"
  },
  "language_info": {
   "codemirror_mode": {
    "name": "ipython",
    "version": 3
   },
   "file_extension": ".py",
   "mimetype": "text/x-python",
   "name": "python",
   "nbconvert_exporter": "python",
   "pygments_lexer": "ipython3",
   "version": "3.10.8"
  }
 },
 "nbformat": 4,
 "nbformat_minor": 5
}
