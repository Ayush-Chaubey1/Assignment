{
 "cells": [
  {
   "cell_type": "code",
   "execution_count": 1,
   "id": "af0ca1d2-a968-4235-ad84-e23817a14f38",
   "metadata": {},
   "outputs": [],
   "source": [
    "#Q1"
   ]
  },
  {
   "cell_type": "code",
   "execution_count": 2,
   "id": "5a0fdda6-250a-4290-bf6b-450708811b1b",
   "metadata": {},
   "outputs": [],
   "source": [
    "# using the Exception class as the base for custom exceptions provides consistency, compatibility, and the ability to leverage existing exception handling mechanisms in Python"
   ]
  },
  {
   "cell_type": "code",
   "execution_count": 3,
   "id": "f80d57cb-f8b2-4d12-a98b-7d9ac8f902f9",
   "metadata": {},
   "outputs": [],
   "source": [
    "#Q2"
   ]
  },
  {
   "cell_type": "code",
   "execution_count": 4,
   "id": "f482f127-21b8-4c06-ab8f-0648112cee69",
   "metadata": {},
   "outputs": [
    {
     "name": "stdout",
     "output_type": "stream",
     "text": [
      "NoneType: object\n",
      "object: \n"
     ]
    }
   ],
   "source": [
    "import sys\n",
    "\n",
    "def print_exception_hierarchy():\n",
    "    exception_hierarchy = {}\n",
    "    \n",
    "    # Traverse the exception hierarchy\n",
    "    for exc in sys.exc_info()[1].__class__.__mro__:\n",
    "        if exc.__name__ != 'BaseException':\n",
    "            exception_hierarchy[exc.__name__] = [base_exc.__name__ for base_exc in exc.__bases__ if base_exc.__name__ != 'BaseException']\n",
    "    \n",
    "    # Print the exception hierarchy\n",
    "    for exc_name, base_exceptions in exception_hierarchy.items():\n",
    "        print(f\"{exc_name}: {', '.join(base_exceptions)}\")\n",
    "        \n",
    "print_exception_hierarchy()"
   ]
  },
  {
   "cell_type": "code",
   "execution_count": 5,
   "id": "a6160528-e0ff-4be2-b897-46b38ce07300",
   "metadata": {},
   "outputs": [],
   "source": [
    "#Q3"
   ]
  },
  {
   "cell_type": "code",
   "execution_count": 6,
   "id": "9befb82e-b91b-4944-bb83-34c36a08af2d",
   "metadata": {},
   "outputs": [],
   "source": [
    "# airthmetic error"
   ]
  },
  {
   "cell_type": "code",
   "execution_count": 8,
   "id": "d8d9a99d-f384-4334-9a38-89fa2e9b7078",
   "metadata": {},
   "outputs": [
    {
     "name": "stdout",
     "output_type": "stream",
     "text": [
      "Error: division by zero\n"
     ]
    }
   ],
   "source": [
    "# a. zeroDivisionError\n",
    "try:\n",
    "    result = 10 / 0\n",
    "except ZeroDivisionError as error:\n",
    "    print(\"Error:\", error)"
   ]
  },
  {
   "cell_type": "code",
   "execution_count": 10,
   "id": "af469aa6-442f-42a3-848e-c65f28afae18",
   "metadata": {},
   "outputs": [],
   "source": [
    "# b. overflowError\n",
    "import sys\n",
    "\n",
    "try:\n",
    "    result = sys.maxsize + 1\n",
    "except OverflowError as error:\n",
    "    print(\"Error:\", error)"
   ]
  },
  {
   "cell_type": "code",
   "execution_count": 11,
   "id": "aa1afaae-efdf-44a0-aee5-e4c8c9f9e396",
   "metadata": {},
   "outputs": [],
   "source": [
    "#Q4"
   ]
  },
  {
   "cell_type": "code",
   "execution_count": 12,
   "id": "6d636b1a-8386-454e-9739-409705df7d62",
   "metadata": {},
   "outputs": [],
   "source": [
    "# The LookupError class is a built-in exception class in Python that serves as the base class for exceptions related to lookup or indexing operations. \n",
    "# It provides a common parent for exceptions like KeyError and IndexError"
   ]
  },
  {
   "cell_type": "code",
   "execution_count": 13,
   "id": "71923278-3234-49cd-af43-b1e0632f4add",
   "metadata": {},
   "outputs": [],
   "source": [
    "# KeyError: This exception is raised when a dictionary key or a set element is not found."
   ]
  },
  {
   "cell_type": "code",
   "execution_count": 14,
   "id": "fb120e4d-cd95-4c9b-b5d1-8ee2df2882d3",
   "metadata": {},
   "outputs": [],
   "source": [
    "# IndexError: This exception is raised when a sequence index is out of range."
   ]
  },
  {
   "cell_type": "code",
   "execution_count": 15,
   "id": "6444645b-d0b7-498f-a6e4-b162d42535ad",
   "metadata": {},
   "outputs": [],
   "source": [
    "#Q5"
   ]
  },
  {
   "cell_type": "code",
   "execution_count": 16,
   "id": "38782dcd-f513-43af-bac2-cd77ea71a421",
   "metadata": {},
   "outputs": [
    {
     "name": "stdout",
     "output_type": "stream",
     "text": [
      "Error: No module named 'non_existing_module'\n"
     ]
    }
   ],
   "source": [
    "# ImportError: This exception is raised when an imported module or a part of it cannot be found or loaded.\n",
    "try:\n",
    "    import non_existing_module\n",
    "except ImportError as error:\n",
    "    print(\"Error:\", error)"
   ]
  },
  {
   "cell_type": "code",
   "execution_count": 17,
   "id": "366d8997-e3fe-4ba4-b2bb-61b39bcbc368",
   "metadata": {},
   "outputs": [
    {
     "name": "stdout",
     "output_type": "stream",
     "text": [
      "Error: No module named 'non_existing_module'\n"
     ]
    }
   ],
   "source": [
    "# ModuleNotFoundError: This exception is a subclass of ImportError and was introduced in Python 3.6. \n",
    "# It is raised when an imported module or a part of it cannot be found or loaded, similar to ImportError\n",
    "try:\n",
    "    import non_existing_module\n",
    "except ModuleNotFoundError as error:\n",
    "    print(\"Error:\", error)"
   ]
  },
  {
   "cell_type": "code",
   "execution_count": 18,
   "id": "8f4ae80a-7790-4c35-9da9-6bf6c230f2a0",
   "metadata": {},
   "outputs": [],
   "source": [
    "#Q6"
   ]
  },
  {
   "cell_type": "code",
   "execution_count": null,
   "id": "097262dc-b097-4f99-bc67-71b835bb18e7",
   "metadata": {},
   "outputs": [],
   "source": [
    "Be specific with exception handling\n",
    "Use multiple except blocks\n",
    "Use finally blocks for cleanup\n",
    "Provide meaningful error messages"
   ]
  }
 ],
 "metadata": {
  "kernelspec": {
   "display_name": "Python 3 (ipykernel)",
   "language": "python",
   "name": "python3"
  },
  "language_info": {
   "codemirror_mode": {
    "name": "ipython",
    "version": 3
   },
   "file_extension": ".py",
   "mimetype": "text/x-python",
   "name": "python",
   "nbconvert_exporter": "python",
   "pygments_lexer": "ipython3",
   "version": "3.10.8"
  }
 },
 "nbformat": 4,
 "nbformat_minor": 5
}
