{
 "cells": [
  {
   "cell_type": "code",
   "execution_count": 1,
   "id": "8229ee8e-36b4-495a-8993-b53104d1053a",
   "metadata": {},
   "outputs": [],
   "source": [
    "#Q!"
   ]
  },
  {
   "cell_type": "code",
   "execution_count": 6,
   "id": "81085fe3-475d-4867-88c5-6e8051978bd9",
   "metadata": {},
   "outputs": [
    {
     "name": "stdin",
     "output_type": "stream",
     "text": [
      "Enter the percentage:  80\n"
     ]
    }
   ],
   "source": [
    "percentage = float(input('Enter the percentage: '))"
   ]
  },
  {
   "cell_type": "code",
   "execution_count": 7,
   "id": "4d52e700-c17d-4b5e-893c-f1d4b77476fe",
   "metadata": {},
   "outputs": [],
   "source": [
    "if percentage > 90:\n",
    "    grade = 'A'\n",
    "elif percentage > 80:\n",
    "    grade = 'B'\n",
    "elif percentage >= 60:\n",
    "    grade = 'C'\n",
    "else:\n",
    "    grade = 'D'"
   ]
  },
  {
   "cell_type": "code",
   "execution_count": 8,
   "id": "3089869c-9530-4815-b4be-5943efba7688",
   "metadata": {},
   "outputs": [
    {
     "name": "stdout",
     "output_type": "stream",
     "text": [
      "Grade: C\n"
     ]
    }
   ],
   "source": [
    "print('Grade:', grade)"
   ]
  },
  {
   "cell_type": "code",
   "execution_count": 9,
   "id": "f274cea5-e91c-499b-bce6-e4bb9868ab38",
   "metadata": {},
   "outputs": [],
   "source": [
    "#Q2"
   ]
  },
  {
   "cell_type": "code",
   "execution_count": 10,
   "id": "e6b4f0ef-5fdf-474c-a036-7b10e67d1377",
   "metadata": {},
   "outputs": [
    {
     "name": "stdin",
     "output_type": "stream",
     "text": [
      "Enter the cost price of the bike (in Rs):  2\n"
     ]
    }
   ],
   "source": [
    "cost_price = float(input('Enter the cost price of the bike (in Rs): '))"
   ]
  },
  {
   "cell_type": "code",
   "execution_count": 11,
   "id": "2006d33b-2191-43bb-83d4-f7617c86f32b",
   "metadata": {},
   "outputs": [],
   "source": [
    "if cost_price > 100000:\n",
    "    road_tax = cost_price * 0.15\n",
    "elif cost_price > 500000 and cost_price <= 100000:\n",
    "    road_tax = cost_price * 0.10\n",
    "else:\n",
    "    road_tax = cost_price * 0.05"
   ]
  },
  {
   "cell_type": "code",
   "execution_count": 15,
   "id": "1ba1e511-1bee-473d-be99-4d0043bfae85",
   "metadata": {},
   "outputs": [
    {
     "name": "stdout",
     "output_type": "stream",
     "text": [
      "Road Tax to be paid (in Rs):  0.1\n"
     ]
    }
   ],
   "source": [
    "print('Road Tax to be paid (in Rs): ' , road_tax)"
   ]
  },
  {
   "cell_type": "code",
   "execution_count": null,
   "id": "2cbb780e-7981-497b-b0d7-ef8ef6da5723",
   "metadata": {},
   "outputs": [],
   "source": [
    "#Q3"
   ]
  },
  {
   "cell_type": "code",
   "execution_count": 14,
   "id": "2270bc49-d94a-4c67-adf6-9588c924323b",
   "metadata": {},
   "outputs": [
    {
     "name": "stdin",
     "output_type": "stream",
     "text": [
      "Enter a city:  Delhi\n"
     ]
    },
    {
     "name": "stdout",
     "output_type": "stream",
     "text": [
      "monuments in Delhi:\n",
      "Red fort\n"
     ]
    }
   ],
   "source": [
    "city = input('Enter a city: ')\n",
    "monuments = {\n",
    "    'Delhi' : ['Red fort'],\n",
    "    'Agra' : ['Taj Mahal'],\n",
    "    'Jaipur' : ['Jal Mahal']\n",
    "}\n",
    "\n",
    "if city in monuments:\n",
    "    city_monuments = monuments[city]\n",
    "    print('monuments in', city + ':')\n",
    "    for monuments in city_monuments:\n",
    "        print(monuments)\n",
    "else:\n",
    "    print('Monuments for', city, 'are not available')"
   ]
  },
  {
   "cell_type": "code",
   "execution_count": 16,
   "id": "dccb523a-12b3-44ba-9ea4-cddfb7c2ba4d",
   "metadata": {},
   "outputs": [],
   "source": [
    "#Q4"
   ]
  },
  {
   "cell_type": "code",
   "execution_count": 18,
   "id": "58b7afc4-cb4d-41e9-9ffb-d53069a766a8",
   "metadata": {},
   "outputs": [
    {
     "name": "stdin",
     "output_type": "stream",
     "text": [
      "Enter a number:  15\n"
     ]
    },
    {
     "name": "stdout",
     "output_type": "stream",
     "text": [
      "The number can be divided by 3 is 1 times before it is less than or equal to 10.\n"
     ]
    }
   ],
   "source": [
    "number = int(input(\"Enter a number: \"))\n",
    "\n",
    "count = 0\n",
    "\n",
    "while number > 10:\n",
    "    number /= 3\n",
    "    count += 1\n",
    "\n",
    "print(\"The number can be divided by 3 is\", count, \"times before it is less than or equal to 10.\")"
   ]
  },
  {
   "cell_type": "code",
   "execution_count": 19,
   "id": "2957b33b-cc4e-439d-ad64-94927849d49c",
   "metadata": {},
   "outputs": [],
   "source": [
    "#Q5"
   ]
  },
  {
   "cell_type": "code",
   "execution_count": 20,
   "id": "1b52299b-3954-44c9-943c-553e3ea8520f",
   "metadata": {},
   "outputs": [],
   "source": [
    "# The while loop in Python is used to repeatedly execute a block of code as long as a given condition is true. It provides a way to perform iterative tasks until a specific condition is met.\n",
    "# The while loop is suitable when the number of iterations is unknown or dependent on a condition that may change during runtime."
   ]
  },
  {
   "cell_type": "code",
   "execution_count": 21,
   "id": "5972446f-d9b9-4d1f-9c44-81c321a90b2a",
   "metadata": {},
   "outputs": [
    {
     "name": "stdout",
     "output_type": "stream",
     "text": [
      "1\n",
      "2\n",
      "3\n",
      "4\n",
      "5\n"
     ]
    }
   ],
   "source": [
    "# eg of while loop: \n",
    "num = 1\n",
    "while num <=5:\n",
    "    print(num)\n",
    "    num += 1"
   ]
  },
  {
   "cell_type": "code",
   "execution_count": 22,
   "id": "2fc35cb5-d36a-4679-b97a-e7eb813dfca4",
   "metadata": {},
   "outputs": [],
   "source": [
    "#Q6"
   ]
  },
  {
   "cell_type": "code",
   "execution_count": 23,
   "id": "7ed34915-8fba-4859-a4f2-beccf3e01ee5",
   "metadata": {},
   "outputs": [
    {
     "name": "stdout",
     "output_type": "stream",
     "text": [
      "* \n",
      "* * \n",
      "* * * \n",
      "* * * * \n",
      "* * * * * \n"
     ]
    }
   ],
   "source": [
    "row = 1\n",
    "while row <=5:\n",
    "    col = 1\n",
    "    while col <= row:\n",
    "        print('*',end=' ')\n",
    "        col += 1\n",
    "    print()\n",
    "    row += 1"
   ]
  },
  {
   "cell_type": "code",
   "execution_count": 24,
   "id": "4fe6d822-5c6a-4b6c-bede-cf264ccdc3e1",
   "metadata": {},
   "outputs": [
    {
     "name": "stdout",
     "output_type": "stream",
     "text": [
      "* * * * \n",
      "* * * * \n",
      "* * * * \n",
      "* * * * \n"
     ]
    }
   ],
   "source": [
    "row = 1\n",
    "while row <=4:\n",
    "    col = 1\n",
    "    while col <= 4:\n",
    "        print('*', end=' ')\n",
    "        col += 1\n",
    "    print()\n",
    "    row += 1"
   ]
  },
  {
   "cell_type": "code",
   "execution_count": 25,
   "id": "a9a18af4-8b45-46b0-bb67-e6582cf82e5f",
   "metadata": {},
   "outputs": [
    {
     "name": "stdout",
     "output_type": "stream",
     "text": [
      "1 \n",
      "1 2 \n",
      "1 2 3 \n",
      "1 2 3 4 \n",
      "1 2 3 4 5 \n"
     ]
    }
   ],
   "source": [
    "row = 1\n",
    "while row <= 5:\n",
    "    col = 1\n",
    "    while col <= row:\n",
    "        print(col, end=\" \")\n",
    "        col += 1\n",
    "    print()\n",
    "    row += 1"
   ]
  },
  {
   "cell_type": "code",
   "execution_count": 26,
   "id": "73cfb658-1510-4af0-905b-2716826a55da",
   "metadata": {},
   "outputs": [],
   "source": [
    "#Q7"
   ]
  },
  {
   "cell_type": "code",
   "execution_count": 27,
   "id": "b8424fd8-6b67-414d-9c99-23c7975bc00e",
   "metadata": {},
   "outputs": [
    {
     "name": "stdout",
     "output_type": "stream",
     "text": [
      "10\n",
      "9\n",
      "8\n",
      "7\n",
      "6\n",
      "5\n",
      "4\n",
      "3\n",
      "2\n",
      "1\n"
     ]
    }
   ],
   "source": [
    "num = 10\n",
    "while num >= 1:\n",
    "    print(num)\n",
    "    num -= 1"
   ]
  },
  {
   "cell_type": "code",
   "execution_count": null,
   "id": "3c637911-f2fa-424f-8997-27d84e9777b5",
   "metadata": {},
   "outputs": [],
   "source": []
  }
 ],
 "metadata": {
  "kernelspec": {
   "display_name": "Python 3 (ipykernel)",
   "language": "python",
   "name": "python3"
  },
  "language_info": {
   "codemirror_mode": {
    "name": "ipython",
    "version": 3
   },
   "file_extension": ".py",
   "mimetype": "text/x-python",
   "name": "python",
   "nbconvert_exporter": "python",
   "pygments_lexer": "ipython3",
   "version": "3.10.8"
  }
 },
 "nbformat": 4,
 "nbformat_minor": 5
}
